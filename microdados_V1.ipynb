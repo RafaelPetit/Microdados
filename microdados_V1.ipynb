{
 "cells": [
  {
   "cell_type": "code",
   "execution_count": 1,
   "metadata": {},
   "outputs": [
    {
     "data": {
      "text/plain": [
       "\"\\nEsse código é responsavel por tratar os dados, assim tratando os seguintes cenarios:\\n- Remover colunas que não serão utilizadas\\n- tratar linhas que possuem valores nulos\\n    - Colunas nulas numericas serão preenchidas com a -1\\n    - Colunas nulas String serão preenchidas com a string 'Desconhecido'\\n- tratar linhas que possuem valores duplicados\\n- tratar linhas que possuem valores fora do padrão\\n    - Colunas serão tratadas de acordo com o tipo de dado\\n    - float pode ser convertido para int\\n    - float 64 pode ser convertido para float 32 ou float 16\\n    - string pode ser convertida para categoria\\n    - int pode ser convertido para int8, int16, int32, int64\\n- Otimizar tipos de dados\\n- Salvar os tipos de dados otimizados em um arquivo externo\\n- Salvar os dados tratados em um novo arquivo\\n\""
      ]
     },
     "execution_count": 1,
     "metadata": {},
     "output_type": "execute_result"
    }
   ],
   "source": [
    "\"\"\"\n",
    "Esse código é responsavel por tratar os dados, assim tratando os seguintes cenarios:\n",
    "- Remover colunas que não serão utilizadas\n",
    "- tratar linhas que possuem valores nulos\n",
    "    - Colunas nulas numericas serão preenchidas com a -1\n",
    "    - Colunas nulas String serão preenchidas com a string 'Desconhecido'\n",
    "- tratar linhas que possuem valores duplicados\n",
    "- tratar linhas que possuem valores fora do padrão\n",
    "    - Colunas serão tratadas de acordo com o tipo de dado\n",
    "    - float pode ser convertido para int\n",
    "    - float 64 pode ser convertido para float 32 ou float 16\n",
    "    - string pode ser convertida para categoria\n",
    "    - int pode ser convertido para int8, int16, int32, int64\n",
    "- Otimizar tipos de dados\n",
    "- Salvar os tipos de dados otimizados em um arquivo externo\n",
    "- Salvar os dados tratados em um novo arquivo\n",
    "\"\"\""
   ]
  },
  {
   "cell_type": "code",
   "execution_count": 2,
   "metadata": {},
   "outputs": [],
   "source": [
    "import seaborn as sns\n",
    "import pandas as pd\n",
    "import chardet\n",
    "import json\n",
    "import gc\n",
    "import matplotlib.pyplot as plt\n",
    "import numpy as np"
   ]
  },
  {
   "cell_type": "code",
   "execution_count": 3,
   "metadata": {},
   "outputs": [],
   "source": [
    "input_file = '../microdados_enem_2023/DADOS/MICRODADOS_ENEM_2023.csv'\n",
    "output_file = 'microdados_tratado.parquet'\n",
    "output_file_csv = 'microdados_tratado.csv'"
   ]
  },
  {
   "cell_type": "code",
   "execution_count": 4,
   "metadata": {},
   "outputs": [],
   "source": [
    "# Verifica o encoding original do arquivo do arquivo (ISO-8859-1)\n",
    "with open(input_file, 'rb') as f:\n",
    "    resultado = chardet.detect(f.read(10000))\n",
    "    encoding_original = resultado['encoding']\n",
    "\n",
    "microdados_V1 = pd.read_csv(input_file, sep=';', encoding=encoding_original, low_memory=False)"
   ]
  },
  {
   "cell_type": "code",
   "execution_count": 5,
   "metadata": {},
   "outputs": [
    {
     "name": "stdout",
     "output_type": "stream",
     "text": [
      "<class 'pandas.core.frame.DataFrame'>\n",
      "RangeIndex: 3933955 entries, 0 to 3933954\n",
      "Data columns (total 76 columns):\n",
      " #   Column                  Dtype  \n",
      "---  ------                  -----  \n",
      " 0   NU_INSCRICAO            int64  \n",
      " 1   NU_ANO                  int64  \n",
      " 2   TP_FAIXA_ETARIA         int64  \n",
      " 3   TP_SEXO                 object \n",
      " 4   TP_ESTADO_CIVIL         int64  \n",
      " 5   TP_COR_RACA             int64  \n",
      " 6   TP_NACIONALIDADE        int64  \n",
      " 7   TP_ST_CONCLUSAO         int64  \n",
      " 8   TP_ANO_CONCLUIU         int64  \n",
      " 9   TP_ESCOLA               int64  \n",
      " 10  TP_ENSINO               float64\n",
      " 11  IN_TREINEIRO            int64  \n",
      " 12  CO_MUNICIPIO_ESC        float64\n",
      " 13  NO_MUNICIPIO_ESC        object \n",
      " 14  CO_UF_ESC               float64\n",
      " 15  SG_UF_ESC               object \n",
      " 16  TP_DEPENDENCIA_ADM_ESC  float64\n",
      " 17  TP_LOCALIZACAO_ESC      float64\n",
      " 18  TP_SIT_FUNC_ESC         float64\n",
      " 19  CO_MUNICIPIO_PROVA      int64  \n",
      " 20  NO_MUNICIPIO_PROVA      object \n",
      " 21  CO_UF_PROVA             int64  \n",
      " 22  SG_UF_PROVA             object \n",
      " 23  TP_PRESENCA_CN          int64  \n",
      " 24  TP_PRESENCA_CH          int64  \n",
      " 25  TP_PRESENCA_LC          int64  \n",
      " 26  TP_PRESENCA_MT          int64  \n",
      " 27  CO_PROVA_CN             float64\n",
      " 28  CO_PROVA_CH             float64\n",
      " 29  CO_PROVA_LC             float64\n",
      " 30  CO_PROVA_MT             float64\n",
      " 31  NU_NOTA_CN              float64\n",
      " 32  NU_NOTA_CH              float64\n",
      " 33  NU_NOTA_LC              float64\n",
      " 34  NU_NOTA_MT              float64\n",
      " 35  TX_RESPOSTAS_CN         object \n",
      " 36  TX_RESPOSTAS_CH         object \n",
      " 37  TX_RESPOSTAS_LC         object \n",
      " 38  TX_RESPOSTAS_MT         object \n",
      " 39  TP_LINGUA               int64  \n",
      " 40  TX_GABARITO_CN          object \n",
      " 41  TX_GABARITO_CH          object \n",
      " 42  TX_GABARITO_LC          object \n",
      " 43  TX_GABARITO_MT          object \n",
      " 44  TP_STATUS_REDACAO       float64\n",
      " 45  NU_NOTA_COMP1           float64\n",
      " 46  NU_NOTA_COMP2           float64\n",
      " 47  NU_NOTA_COMP3           float64\n",
      " 48  NU_NOTA_COMP4           float64\n",
      " 49  NU_NOTA_COMP5           float64\n",
      " 50  NU_NOTA_REDACAO         float64\n",
      " 51  Q001                    object \n",
      " 52  Q002                    object \n",
      " 53  Q003                    object \n",
      " 54  Q004                    object \n",
      " 55  Q005                    int64  \n",
      " 56  Q006                    object \n",
      " 57  Q007                    object \n",
      " 58  Q008                    object \n",
      " 59  Q009                    object \n",
      " 60  Q010                    object \n",
      " 61  Q011                    object \n",
      " 62  Q012                    object \n",
      " 63  Q013                    object \n",
      " 64  Q014                    object \n",
      " 65  Q015                    object \n",
      " 66  Q016                    object \n",
      " 67  Q017                    object \n",
      " 68  Q018                    object \n",
      " 69  Q019                    object \n",
      " 70  Q020                    object \n",
      " 71  Q021                    object \n",
      " 72  Q022                    object \n",
      " 73  Q023                    object \n",
      " 74  Q024                    object \n",
      " 75  Q025                    object \n",
      "dtypes: float64(21), int64(18), object(37)\n",
      "memory usage: 2.2+ GB\n"
     ]
    }
   ],
   "source": [
    "microdados_V1.info()"
   ]
  },
  {
   "cell_type": "code",
   "execution_count": 6,
   "metadata": {},
   "outputs": [
    {
     "name": "stdout",
     "output_type": "stream",
     "text": [
      "Total de linhas: 3933955\n",
      "Total de linhas com algum valor nulo: 3225341\n",
      "Total de linhas sem valores nulos: 708614\n"
     ]
    }
   ],
   "source": [
    "# Verifica a quantidade de linhas total do arquivo\n",
    "total_linhas = microdados_V1.shape[0]\n",
    "print(f'Total de linhas: {total_linhas}')\n",
    "\n",
    "# Verifica a quantidade de linhas que possuem qualquer valor nulo\n",
    "linhas_com_nulos = microdados_V1.isnull().any(axis=1).sum()\n",
    "print(f'Total de linhas com algum valor nulo: {linhas_com_nulos}')\n",
    "\n",
    "# Verifica a quantidade de linhas sem valores nulos\n",
    "total_linhas_sem_nulos = total_linhas - linhas_com_nulos\n",
    "print(f'Total de linhas sem valores nulos: {total_linhas_sem_nulos}')"
   ]
  },
  {
   "cell_type": "code",
   "execution_count": 7,
   "metadata": {},
   "outputs": [],
   "source": [
    "#==================== REMOVENDO COLUNAS ====================#"
   ]
  },
  {
   "cell_type": "code",
   "execution_count": 8,
   "metadata": {},
   "outputs": [],
   "source": [
    "microdados_V1.drop(\n",
    "    columns=[\n",
    "        'NU_INSCRICAO', 'NU_ANO', 'TP_ANO_CONCLUIU', 'IN_TREINEIRO', 'CO_MUNICIPIO_ESC', 'NO_MUNICIPIO_ESC',\n",
    "        'CO_UF_ESC', 'SG_UF_ESC', 'TP_SIT_FUNC_ESC', 'CO_MUNICIPIO_PROVA', 'NO_MUNICIPIO_PROVA',\n",
    "        'CO_UF_PROVA', 'CO_PROVA_CN', 'CO_PROVA_CH', 'CO_PROVA_LC', 'CO_PROVA_MT', 'TX_RESPOSTAS_CN',\n",
    "        'TX_RESPOSTAS_CH', 'TX_RESPOSTAS_LC', 'TX_RESPOSTAS_MT', 'TP_LINGUA', 'TX_GABARITO_CN',\n",
    "        'TX_GABARITO_CH', 'TX_GABARITO_LC', 'TX_GABARITO_MT', 'TP_STATUS_REDACAO', 'NU_NOTA_COMP1',\n",
    "        'NU_NOTA_COMP2', 'NU_NOTA_COMP3', 'NU_NOTA_COMP4', 'NU_NOTA_COMP5'\n",
    "    ],\n",
    "    inplace=True\n",
    ")\n"
   ]
  },
  {
   "cell_type": "code",
   "execution_count": 9,
   "metadata": {},
   "outputs": [],
   "source": [
    "#==================== DADOS NULOS ====================#"
   ]
  },
  {
   "cell_type": "code",
   "execution_count": 10,
   "metadata": {},
   "outputs": [
    {
     "name": "stdout",
     "output_type": "stream",
     "text": [
      "Total de linhas: 3933955\n",
      "Total de linhas com algum valor nulo: 3225341\n",
      "Total de linhas restantes: 708614\n"
     ]
    }
   ],
   "source": [
    "# Verifica a quantidade de linhas total do arquivo\n",
    "total_linhas = microdados_V1.shape[0]\n",
    "print(f'Total de linhas: {total_linhas}')\n",
    "\n",
    "# Verifica a quantidade de linhas que possuem qualquer valor nulo\n",
    "linhas_com_nulos = microdados_V1.isnull().any(axis=1).sum()\n",
    "print(f'Total de linhas com algum valor nulo: {linhas_com_nulos}')\n",
    "\n",
    "# Verifica a quantidade de linhas restantes\n",
    "total_linhas_restantes = total_linhas - linhas_com_nulos\n",
    "print(f'Total de linhas restantes: {total_linhas_restantes}')"
   ]
  },
  {
   "cell_type": "code",
   "execution_count": 11,
   "metadata": {},
   "outputs": [
    {
     "name": "stdout",
     "output_type": "stream",
     "text": [
      "<class 'pandas.core.frame.DataFrame'>\n",
      "RangeIndex: 3933955 entries, 0 to 3933954\n",
      "Data columns (total 45 columns):\n",
      " #   Column                  Dtype  \n",
      "---  ------                  -----  \n",
      " 0   TP_FAIXA_ETARIA         int64  \n",
      " 1   TP_SEXO                 object \n",
      " 2   TP_ESTADO_CIVIL         int64  \n",
      " 3   TP_COR_RACA             int64  \n",
      " 4   TP_NACIONALIDADE        int64  \n",
      " 5   TP_ST_CONCLUSAO         int64  \n",
      " 6   TP_ESCOLA               int64  \n",
      " 7   TP_ENSINO               float64\n",
      " 8   TP_DEPENDENCIA_ADM_ESC  float64\n",
      " 9   TP_LOCALIZACAO_ESC      float64\n",
      " 10  SG_UF_PROVA             object \n",
      " 11  TP_PRESENCA_CN          int64  \n",
      " 12  TP_PRESENCA_CH          int64  \n",
      " 13  TP_PRESENCA_LC          int64  \n",
      " 14  TP_PRESENCA_MT          int64  \n",
      " 15  NU_NOTA_CN              float64\n",
      " 16  NU_NOTA_CH              float64\n",
      " 17  NU_NOTA_LC              float64\n",
      " 18  NU_NOTA_MT              float64\n",
      " 19  NU_NOTA_REDACAO         float64\n",
      " 20  Q001                    object \n",
      " 21  Q002                    object \n",
      " 22  Q003                    object \n",
      " 23  Q004                    object \n",
      " 24  Q005                    int64  \n",
      " 25  Q006                    object \n",
      " 26  Q007                    object \n",
      " 27  Q008                    object \n",
      " 28  Q009                    object \n",
      " 29  Q010                    object \n",
      " 30  Q011                    object \n",
      " 31  Q012                    object \n",
      " 32  Q013                    object \n",
      " 33  Q014                    object \n",
      " 34  Q015                    object \n",
      " 35  Q016                    object \n",
      " 36  Q017                    object \n",
      " 37  Q018                    object \n",
      " 38  Q019                    object \n",
      " 39  Q020                    object \n",
      " 40  Q021                    object \n",
      " 41  Q022                    object \n",
      " 42  Q023                    object \n",
      " 43  Q024                    object \n",
      " 44  Q025                    object \n",
      "dtypes: float64(8), int64(11), object(26)\n",
      "memory usage: 1.3+ GB\n"
     ]
    }
   ],
   "source": [
    "# Verificar informações sobre os dados\n",
    "microdados_V1.info()"
   ]
  },
  {
   "cell_type": "code",
   "execution_count": 12,
   "metadata": {},
   "outputs": [
    {
     "data": {
      "text/plain": [
       "Index(['TP_ENSINO', 'TP_DEPENDENCIA_ADM_ESC', 'TP_LOCALIZACAO_ESC',\n",
       "       'NU_NOTA_CN', 'NU_NOTA_CH', 'NU_NOTA_LC', 'NU_NOTA_MT',\n",
       "       'NU_NOTA_REDACAO'],\n",
       "      dtype='object')"
      ]
     },
     "execution_count": 12,
     "metadata": {},
     "output_type": "execute_result"
    }
   ],
   "source": [
    "# Localizando colunas nulas\n",
    "nulos = microdados_V1.columns[microdados_V1.isnull().any()]\n",
    "nulos"
   ]
  },
  {
   "cell_type": "code",
   "execution_count": 13,
   "metadata": {},
   "outputs": [
    {
     "data": {
      "text/plain": [
       "(Index(['TP_ENSINO', 'TP_DEPENDENCIA_ADM_ESC', 'TP_LOCALIZACAO_ESC',\n",
       "        'NU_NOTA_CN', 'NU_NOTA_CH', 'NU_NOTA_LC', 'NU_NOTA_MT',\n",
       "        'NU_NOTA_REDACAO'],\n",
       "       dtype='object'),\n",
       " Index([], dtype='object'))"
      ]
     },
     "execution_count": 13,
     "metadata": {},
     "output_type": "execute_result"
    }
   ],
   "source": [
    "# Localizando colunas nulas de cada tipo\n",
    "nulos_number = microdados_V1[nulos].select_dtypes(include='number').columns\n",
    "nulos_string = microdados_V1[nulos].select_dtypes(include='object').columns\n",
    "nulos_number, nulos_string"
   ]
  },
  {
   "cell_type": "code",
   "execution_count": 14,
   "metadata": {},
   "outputs": [
    {
     "data": {
      "text/plain": [
       "NU_NOTA_CN         True\n",
       "NU_NOTA_CH         True\n",
       "NU_NOTA_LC         True\n",
       "NU_NOTA_MT         True\n",
       "NU_NOTA_REDACAO    True\n",
       "dtype: bool"
      ]
     },
     "execution_count": 14,
     "metadata": {},
     "output_type": "execute_result"
    }
   ],
   "source": [
    "\"\"\"\n",
    "Selecionar colunas nulas relacionadas as notas do candidato\n",
    "Verificar existencia de candidatos tiraram nota 0\n",
    "Verificar existencia de valores igual a -1\n",
    "\"\"\"\n",
    "colunas_notas = [\n",
    "    'NU_NOTA_CN', 'NU_NOTA_CH', 'NU_NOTA_LC', 'NU_NOTA_MT', 'NU_NOTA_REDACAO',\n",
    "]\n",
    "\n",
    "microdados_V1[colunas_notas].min() == 0"
   ]
  },
  {
   "cell_type": "code",
   "execution_count": 15,
   "metadata": {},
   "outputs": [
    {
     "data": {
      "text/plain": [
       "NU_NOTA_CN         False\n",
       "NU_NOTA_CH         False\n",
       "NU_NOTA_LC         False\n",
       "NU_NOTA_MT         False\n",
       "NU_NOTA_REDACAO    False\n",
       "dtype: bool"
      ]
     },
     "execution_count": 15,
     "metadata": {},
     "output_type": "execute_result"
    }
   ],
   "source": [
    "microdados_V1[colunas_notas].min() == -1"
   ]
  },
  {
   "cell_type": "code",
   "execution_count": 16,
   "metadata": {},
   "outputs": [
    {
     "data": {
      "text/html": [
       "<div>\n",
       "<style scoped>\n",
       "    .dataframe tbody tr th:only-of-type {\n",
       "        vertical-align: middle;\n",
       "    }\n",
       "\n",
       "    .dataframe tbody tr th {\n",
       "        vertical-align: top;\n",
       "    }\n",
       "\n",
       "    .dataframe thead th {\n",
       "        text-align: right;\n",
       "    }\n",
       "</style>\n",
       "<table border=\"1\" class=\"dataframe\">\n",
       "  <thead>\n",
       "    <tr style=\"text-align: right;\">\n",
       "      <th></th>\n",
       "      <th>NU_NOTA_CN</th>\n",
       "      <th>NU_NOTA_CH</th>\n",
       "      <th>NU_NOTA_LC</th>\n",
       "      <th>NU_NOTA_MT</th>\n",
       "      <th>NU_NOTA_REDACAO</th>\n",
       "    </tr>\n",
       "  </thead>\n",
       "  <tbody>\n",
       "    <tr>\n",
       "      <th>0</th>\n",
       "      <td>-1.0</td>\n",
       "      <td>-1.0</td>\n",
       "      <td>-1.0</td>\n",
       "      <td>-1.0</td>\n",
       "      <td>-1.0</td>\n",
       "    </tr>\n",
       "    <tr>\n",
       "      <th>1</th>\n",
       "      <td>-1.0</td>\n",
       "      <td>-1.0</td>\n",
       "      <td>-1.0</td>\n",
       "      <td>-1.0</td>\n",
       "      <td>-1.0</td>\n",
       "    </tr>\n",
       "    <tr>\n",
       "      <th>2</th>\n",
       "      <td>502.0</td>\n",
       "      <td>498.9</td>\n",
       "      <td>475.6</td>\n",
       "      <td>363.2</td>\n",
       "      <td>700.0</td>\n",
       "    </tr>\n",
       "    <tr>\n",
       "      <th>3</th>\n",
       "      <td>459.0</td>\n",
       "      <td>508.5</td>\n",
       "      <td>507.2</td>\n",
       "      <td>466.7</td>\n",
       "      <td>880.0</td>\n",
       "    </tr>\n",
       "    <tr>\n",
       "      <th>4</th>\n",
       "      <td>402.5</td>\n",
       "      <td>379.2</td>\n",
       "      <td>446.9</td>\n",
       "      <td>338.3</td>\n",
       "      <td>560.0</td>\n",
       "    </tr>\n",
       "  </tbody>\n",
       "</table>\n",
       "</div>"
      ],
      "text/plain": [
       "   NU_NOTA_CN  NU_NOTA_CH  NU_NOTA_LC  NU_NOTA_MT  NU_NOTA_REDACAO\n",
       "0        -1.0        -1.0        -1.0        -1.0             -1.0\n",
       "1        -1.0        -1.0        -1.0        -1.0             -1.0\n",
       "2       502.0       498.9       475.6       363.2            700.0\n",
       "3       459.0       508.5       507.2       466.7            880.0\n",
       "4       402.5       379.2       446.9       338.3            560.0"
      ]
     },
     "execution_count": 16,
     "metadata": {},
     "output_type": "execute_result"
    }
   ],
   "source": [
    "\"\"\"\n",
    "Exitem candidatos que tiraram nota 0 na provas\n",
    "Analisado que não existem valores -1 nas notas dos candidatos\t\n",
    "\"\"\"\n",
    "microdados_V1[colunas_notas] = microdados_V1[colunas_notas].fillna(-1)\n",
    "microdados_V1[colunas_notas].head()"
   ]
  },
  {
   "cell_type": "code",
   "execution_count": 17,
   "metadata": {},
   "outputs": [
    {
     "data": {
      "text/plain": [
       "np.int64(0)"
      ]
     },
     "execution_count": 17,
     "metadata": {},
     "output_type": "execute_result"
    }
   ],
   "source": [
    "# Verfica a quantidade de linhas nulas restantes nas colunas tratadas\n",
    "# microdados_V1[colunas_gabarito].isna().sum().sum()\n",
    "microdados_V1[colunas_notas].isna().sum().sum()"
   ]
  },
  {
   "cell_type": "code",
   "execution_count": 18,
   "metadata": {},
   "outputs": [
    {
     "data": {
      "text/plain": [
       "Index(['TP_ENSINO', 'TP_DEPENDENCIA_ADM_ESC', 'TP_LOCALIZACAO_ESC'], dtype='object')"
      ]
     },
     "execution_count": 18,
     "metadata": {},
     "output_type": "execute_result"
    }
   ],
   "source": [
    "# Verifica a quantidade de colunas nulas restantes\n",
    "colunas_com_nulos = microdados_V1.columns[microdados_V1.isnull().any()]\n",
    "colunas_com_nulos"
   ]
  },
  {
   "cell_type": "code",
   "execution_count": 19,
   "metadata": {},
   "outputs": [
    {
     "data": {
      "text/plain": [
       "Index(['TP_ENSINO', 'TP_DEPENDENCIA_ADM_ESC', 'TP_LOCALIZACAO_ESC'], dtype='object')"
      ]
     },
     "execution_count": 19,
     "metadata": {},
     "output_type": "execute_result"
    }
   ],
   "source": [
    "# Extraindo colunas com valores nulos do tipo number e aplicando valores -1\n",
    "colunas_com_nulos_numericos = microdados_V1[colunas_com_nulos].select_dtypes(include='number').columns\n",
    "\n",
    "\n",
    "# Colunas que possuem valores nulos do tipo string, continuaram sem alteração\n",
    "colunas_com_nulos_numericos"
   ]
  },
  {
   "cell_type": "code",
   "execution_count": 20,
   "metadata": {},
   "outputs": [
    {
     "data": {
      "text/html": [
       "<div>\n",
       "<style scoped>\n",
       "    .dataframe tbody tr th:only-of-type {\n",
       "        vertical-align: middle;\n",
       "    }\n",
       "\n",
       "    .dataframe tbody tr th {\n",
       "        vertical-align: top;\n",
       "    }\n",
       "\n",
       "    .dataframe thead th {\n",
       "        text-align: right;\n",
       "    }\n",
       "</style>\n",
       "<table border=\"1\" class=\"dataframe\">\n",
       "  <thead>\n",
       "    <tr style=\"text-align: right;\">\n",
       "      <th></th>\n",
       "      <th>TP_ENSINO</th>\n",
       "      <th>TP_DEPENDENCIA_ADM_ESC</th>\n",
       "      <th>TP_LOCALIZACAO_ESC</th>\n",
       "    </tr>\n",
       "  </thead>\n",
       "  <tbody>\n",
       "    <tr>\n",
       "      <th>0</th>\n",
       "      <td>-1.0</td>\n",
       "      <td>-1.0</td>\n",
       "      <td>-1.0</td>\n",
       "    </tr>\n",
       "    <tr>\n",
       "      <th>1</th>\n",
       "      <td>-1.0</td>\n",
       "      <td>-1.0</td>\n",
       "      <td>-1.0</td>\n",
       "    </tr>\n",
       "    <tr>\n",
       "      <th>2</th>\n",
       "      <td>-1.0</td>\n",
       "      <td>-1.0</td>\n",
       "      <td>-1.0</td>\n",
       "    </tr>\n",
       "    <tr>\n",
       "      <th>3</th>\n",
       "      <td>1.0</td>\n",
       "      <td>2.0</td>\n",
       "      <td>1.0</td>\n",
       "    </tr>\n",
       "    <tr>\n",
       "      <th>4</th>\n",
       "      <td>1.0</td>\n",
       "      <td>2.0</td>\n",
       "      <td>1.0</td>\n",
       "    </tr>\n",
       "  </tbody>\n",
       "</table>\n",
       "</div>"
      ],
      "text/plain": [
       "   TP_ENSINO  TP_DEPENDENCIA_ADM_ESC  TP_LOCALIZACAO_ESC\n",
       "0       -1.0                    -1.0                -1.0\n",
       "1       -1.0                    -1.0                -1.0\n",
       "2       -1.0                    -1.0                -1.0\n",
       "3        1.0                     2.0                 1.0\n",
       "4        1.0                     2.0                 1.0"
      ]
     },
     "execution_count": 20,
     "metadata": {},
     "output_type": "execute_result"
    }
   ],
   "source": [
    "microdados_V1[colunas_com_nulos_numericos] = microdados_V1[colunas_com_nulos_numericos].fillna(-1)\n",
    "microdados_V1[colunas_com_nulos_numericos].head()"
   ]
  },
  {
   "cell_type": "code",
   "execution_count": 21,
   "metadata": {},
   "outputs": [
    {
     "data": {
      "text/plain": [
       "Index([], dtype='object')"
      ]
     },
     "execution_count": 21,
     "metadata": {},
     "output_type": "execute_result"
    }
   ],
   "source": [
    "# Verifica a quantidade de colunas nulas restantes\n",
    "# Tratar colunas nulas do tipo string com a string 'Desconhecido'\n",
    "colunas_com_nulos_string = microdados_V1.columns[microdados_V1.isnull().any()]\n",
    "colunas_com_nulos_string"
   ]
  },
  {
   "cell_type": "code",
   "execution_count": 22,
   "metadata": {},
   "outputs": [
    {
     "data": {
      "text/plain": [
       "Index([], dtype='object')"
      ]
     },
     "execution_count": 22,
     "metadata": {},
     "output_type": "execute_result"
    }
   ],
   "source": [
    "microdados_V1[colunas_com_nulos_string] = microdados_V1[colunas_com_nulos_string].fillna('Desconhecido')\n",
    "\n",
    "colunas_com_nulos_string"
   ]
  },
  {
   "cell_type": "code",
   "execution_count": 23,
   "metadata": {},
   "outputs": [
    {
     "data": {
      "text/plain": [
       "Index([], dtype='object')"
      ]
     },
     "execution_count": 23,
     "metadata": {},
     "output_type": "execute_result"
    }
   ],
   "source": [
    "microdados_V1.columns[microdados_V1.isnull().any()]"
   ]
  },
  {
   "cell_type": "code",
   "execution_count": 24,
   "metadata": {},
   "outputs": [],
   "source": [
    "#==================== CRIAÇÃO DE NOVAS COLUNAS ====================#"
   ]
  },
  {
   "cell_type": "code",
   "execution_count": 25,
   "metadata": {},
   "outputs": [],
   "source": [
    "# Criação da coluna NU_MEDIA_GERAL\n",
    "\n",
    "colunas_notas = ['NU_NOTA_CN', 'NU_NOTA_CH', 'NU_NOTA_LC', 'NU_NOTA_MT', 'NU_NOTA_REDACAO']\n",
    "\n",
    "microdados_V1['NU_MEDIA_GERAL'] = microdados_V1[microdados_V1[colunas_notas] != -1].mean(axis=1).astype('float16')"
   ]
  },
  {
   "cell_type": "code",
   "execution_count": 26,
   "metadata": {},
   "outputs": [
    {
     "name": "stdout",
     "output_type": "stream",
     "text": [
      "Criando coluna REGIAO...\n",
      "Coluna REGIAO criada com 5 regiões únicas:\n",
      "SG_REGIAO\n",
      "Nordeste        1423999\n",
      "Sudeste         1305362\n",
      "Norte            453454\n",
      "Sul              417688\n",
      "Centro-Oeste     333452\n",
      "Name: count, dtype: int64\n"
     ]
    }
   ],
   "source": [
    "# Criação da coluna REGIAO\n",
    "\n",
    "# Mapeamento de estados para regiões brasileiras\n",
    "ESTADO_PARA_REGIAO = {\n",
    "    # Norte\n",
    "    'AC': 'Norte', 'AM': 'Norte', 'AP': 'Norte', 'PA': 'Norte', \n",
    "    'RO': 'Norte', 'RR': 'Norte', 'TO': 'Norte',\n",
    "    \n",
    "    # Nordeste  \n",
    "    'AL': 'Nordeste', 'BA': 'Nordeste', 'CE': 'Nordeste', 'MA': 'Nordeste',\n",
    "    'PB': 'Nordeste', 'PE': 'Nordeste', 'PI': 'Nordeste', 'RN': 'Nordeste', 'SE': 'Nordeste',\n",
    "    \n",
    "    # Centro-Oeste\n",
    "    'DF': 'Centro-Oeste', 'GO': 'Centro-Oeste', 'MS': 'Centro-Oeste', 'MT': 'Centro-Oeste',\n",
    "    \n",
    "    # Sudeste\n",
    "    'ES': 'Sudeste', 'MG': 'Sudeste', 'RJ': 'Sudeste', 'SP': 'Sudeste',\n",
    "    \n",
    "    # Sul\n",
    "    'PR': 'Sul', 'RS': 'Sul', 'SC': 'Sul'\n",
    "}\n",
    "\n",
    "def adicionar_coluna_regiao(microdados_V3):\n",
    "    \"\"\"\n",
    "    Adiciona a coluna REGIAO ao DataFrame baseada na coluna SG_UF_PROVA.\n",
    "    Esta coluna estava sendo criada em runtime e impactava a performance.\n",
    "    \"\"\"\n",
    "    if 'SG_REGIAO' in microdados_V3.columns:\n",
    "        print(\"Coluna REGIAO já existe no DataFrame\")\n",
    "        return microdados_V3\n",
    "    \n",
    "    if 'SG_UF_PROVA' not in microdados_V3.columns:\n",
    "        print(\"AVISO: Coluna SG_UF_PROVA não encontrada. Coluna REGIAO não foi criada.\")\n",
    "        return microdados_V3\n",
    "    \n",
    "    print(\"Criando coluna REGIAO...\")\n",
    "    microdados_V3['SG_REGIAO'] = microdados_V3['SG_UF_PROVA'].map(ESTADO_PARA_REGIAO)\n",
    "    \n",
    "    # Verificar valores não mapeados\n",
    "    valores_nao_mapeados = microdados_V3[microdados_V3['SG_REGIAO'].isna()]['SG_UF_PROVA'].unique()\n",
    "    if len(valores_nao_mapeados) > 0:\n",
    "        print(f\"AVISO: Estados não mapeados encontrados: {valores_nao_mapeados}\")\n",
    "        microdados_V3['SG_REGIAO'] = microdados_V3['SG_REGIAO'].fillna('Indefinido')\n",
    "    \n",
    "    # Otimizar tipo de dados\n",
    "    microdados_V3['SG_REGIAO'] = microdados_V3['SG_REGIAO'].astype('category')\n",
    "    \n",
    "    print(f\"Coluna REGIAO criada com {microdados_V3['SG_REGIAO'].nunique()} regiões únicas:\")\n",
    "    print(microdados_V3['SG_REGIAO'].value_counts())\n",
    "    \n",
    "    return \n",
    "\n",
    "# Adicionar a coluna REGIAO ao DataFrame\n",
    "adicionar_coluna_regiao(microdados_V1)"
   ]
  },
  {
   "cell_type": "code",
   "execution_count": 27,
   "metadata": {},
   "outputs": [],
   "source": [
    "# Criação da coluna NU_DESEMPENHO\"\n",
    "microdados_V1['NU_DESEMPENHO'] = microdados_V1[microdados_V1[colunas_notas] != -1].mean(axis=1)\n",
    "\n",
    "\n",
    "# Função para mapear os valores\n",
    "def map_desempenho(valor):\n",
    "    if valor > 600:    # ~20-25% dos estudantes\n",
    "        return 1        # Alto\n",
    "    elif valor >= 300:  # ~30-35% dos estudantes\n",
    "        return 2        # Médio\n",
    "    else:               # ~40-45% dos estudantes\n",
    "        return 3        # Baixo\n",
    "\n",
    "# # Aplicando a função à coluna 'NU_DESEMPENHO'\n",
    "microdados_V1['NU_DESEMPENHO'] = microdados_V1['NU_DESEMPENHO'].apply(map_desempenho).astype('category')"
   ]
  },
  {
   "cell_type": "code",
   "execution_count": 28,
   "metadata": {},
   "outputs": [
    {
     "name": "stdout",
     "output_type": "stream",
     "text": [
      "Distribuição de presença na redação:\n",
      "TP_PRESENCA_REDACAO\n",
      "1    2822643\n",
      "0    1111312\n",
      "Name: count, dtype: int64\n"
     ]
    }
   ],
   "source": [
    "# Criação da coluna TP_PRESENCA_REDACAO\n",
    "\n",
    "# Linguagens e Códigos (LC) E Ciências Humanas (CH)\n",
    "condicao_presente_redacao = (\n",
    "    (microdados_V1['TP_PRESENCA_LC'] == 1) & \n",
    "    (microdados_V1['TP_PRESENCA_CH'] == 1) \n",
    ")\n",
    "\n",
    "# Criando a coluna com valores 1 (presente) ou 0 (ausente)\n",
    "microdados_V1['TP_PRESENCA_REDACAO'] = condicao_presente_redacao.astype(int).astype('category')\n",
    "\n",
    "# Verificação rápida\n",
    "print(\"Distribuição de presença na redação:\")\n",
    "print(microdados_V1['TP_PRESENCA_REDACAO'].value_counts())"
   ]
  },
  {
   "cell_type": "code",
   "execution_count": 29,
   "metadata": {},
   "outputs": [],
   "source": [
    "# Criação da coluna TP_PRESENCA_GERAL\n",
    " \n",
    "# Definindo as condições para cada categoria de presença geral\n",
    "condicao_presenca_completa = (\n",
    "    (microdados_V1['TP_PRESENCA_CN'] == 1) & \n",
    "    (microdados_V1['TP_PRESENCA_CH'] == 1) & \n",
    "    (microdados_V1['TP_PRESENCA_LC'] == 1) & \n",
    "    (microdados_V1['TP_PRESENCA_MT'] == 1)\n",
    ")\n",
    "\n",
    "condicao_presenca_primeiro_dia = (\n",
    "    (microdados_V1['TP_PRESENCA_LC'] == 1) & \n",
    "    (microdados_V1['TP_PRESENCA_CH'] == 1) & \n",
    "    ((microdados_V1['TP_PRESENCA_MT'] != 1) | (microdados_V1['TP_PRESENCA_CN'] != 1))\n",
    ")\n",
    "\n",
    "condicao_presenca_segundo_dia = (\n",
    "    (microdados_V1['TP_PRESENCA_MT'] == 1) & \n",
    "    (microdados_V1['TP_PRESENCA_CN'] == 1) & \n",
    "    ((microdados_V1['TP_PRESENCA_LC'] != 1) | (microdados_V1['TP_PRESENCA_CH'] != 1))\n",
    ")\n",
    "\n",
    "# Criando a coluna com valores padrão (0)\n",
    "microdados_V1['TP_PRESENCA_GERAL'] = 0\n",
    "\n",
    "# Aplicando as condições na ordem correta\n",
    "microdados_V1.loc[condicao_presenca_primeiro_dia, 'TP_PRESENCA_GERAL'] = 1\n",
    "microdados_V1.loc[condicao_presenca_segundo_dia, 'TP_PRESENCA_GERAL'] = 2\n",
    "microdados_V1.loc[condicao_presenca_completa, 'TP_PRESENCA_GERAL'] = 3\n",
    "\n",
    "microdados_V1['TP_PRESENCA_GERAL'] = microdados_V1['TP_PRESENCA_GERAL'].astype('category')"
   ]
  },
  {
   "cell_type": "code",
   "execution_count": 30,
   "metadata": {},
   "outputs": [],
   "source": [
    "# Criação da coluna NU_INFRAESTRUTURA\n",
    "\n",
    "# Dicionário original de pontuações brutas para Q007–Q025\n",
    "pontuacao_bruta = {\n",
    "    'Q007': {'A': 0, 'B': 1, 'C': 2, 'D': 3},\n",
    "    'Q008': {'A': 0, 'B': 1, 'C': 2, 'D': 3, 'E': 4},\n",
    "    'Q009': {'A': 0, 'B': 1, 'C': 2, 'D': 3, 'E': 4},\n",
    "    'Q010': {'A': 0, 'B': 1, 'C': 2, 'D': 3, 'E': 4},\n",
    "    'Q011': {'A': 0, 'B': 1, 'C': 2, 'D': 3, 'E': 4},\n",
    "    'Q012': {'A': 0, 'B': 1, 'C': 2, 'D': 3, 'E': 4},\n",
    "    'Q013': {'A': 0, 'B': 1, 'C': 2, 'D': 3, 'E': 4},\n",
    "    'Q014': {'A': 0, 'B': 1, 'C': 2, 'D': 3, 'E': 4},\n",
    "    'Q015': {'A': 0, 'B': 1, 'C': 2, 'D': 3, 'E': 4},\n",
    "    'Q016': {'A': 0, 'B': 1, 'C': 2, 'D': 3, 'E': 4},\n",
    "    'Q017': {'A': 0, 'B': 1, 'C': 2, 'D': 3, 'E': 4},\n",
    "    'Q018': {'A': 0, 'B': 1},\n",
    "    'Q019': {'A': 0, 'B': 1, 'C': 2, 'D': 3, 'E': 4},\n",
    "    'Q020': {'A': 0, 'B': 1},\n",
    "    'Q021': {'A': 0, 'B': 1},\n",
    "    'Q022': {'A': 0, 'B': 1, 'C': 2, 'D': 3, 'E': 4},\n",
    "    'Q023': {'A': 0, 'B': 1},\n",
    "    'Q024': {'A': 0, 'B': 1, 'C': 2, 'D': 3, 'E': 4},\n",
    "    'Q025': {'A': 0, 'B': 1},\n",
    "}\n",
    "\n",
    "# Lista de colunas que entram no índice\n",
    "colunas_infra = list(pontuacao_bruta.keys())\n",
    "\n",
    "\n",
    "# === 2️⃣ Mapeamento e Normalização ===\n",
    "\n",
    "for col in colunas_infra:\n",
    "    mapping = pontuacao_bruta[col]\n",
    "    max_raw = max(mapping.values())\n",
    "    # cria coluna normalizada de 0.0 a 1.0\n",
    "    microdados_V1[col + \"_norm\"] = (\n",
    "        microdados_V1[col]\n",
    "        .map(mapping)           # troca letra por valor bruto\n",
    "        .fillna(0)              # trata missings como zero\n",
    "        .div(max_raw)           # normaliza dividindo pelo máximo\n",
    "    )\n",
    "\n",
    "\n",
    "# === 3️⃣ Cálculo do Índice de Infraestrutura ===\n",
    "\n",
    "# média simples dos componentes normalizados (escala 0–1)\n",
    "norm_cols = [c + \"_norm\" for c in colunas_infra]\n",
    "microdados_V1[\"infra_norm_media\"] = microdados_V1[norm_cols].mean(axis=1)\n",
    "\n",
    "\n",
    "# === 4️⃣ Definição das Três Categorias ===\n",
    "\n",
    "q1 = microdados_V1[\"infra_norm_media\"].quantile(0.33)\n",
    "q2 = microdados_V1[\"infra_norm_media\"].quantile(0.66)\n",
    "\n",
    "def categorizar(x):\n",
    "    if x >= q2:\n",
    "        return 1\n",
    "    elif x >= q1:\n",
    "        return 2\n",
    "    else:\n",
    "        return 3\n",
    "\n",
    "microdados_V1['NU_INFRAESTRUTURA'] = (\n",
    "    microdados_V1[\"infra_norm_media\"]\n",
    "    .apply(categorizar)\n",
    "    .astype('category')\n",
    ")\n",
    "\n",
    "\n",
    "# === 5️⃣ Limpeza Final ===\n",
    "\n",
    "# remove colunas temporárias de normalização\n",
    "microdados_V1.drop(columns=norm_cols + [\"infra_norm_media\"], inplace=True)\n"
   ]
  },
  {
   "cell_type": "code",
   "execution_count": 31,
   "metadata": {},
   "outputs": [
    {
     "name": "stdout",
     "output_type": "stream",
     "text": [
      "Distribuição da nova faixa salarial:\n",
      "TP_FAIXA_SALARIAL\n",
      "0     268053\n",
      "1    1245271\n",
      "2    1088308\n",
      "3     465338\n",
      "4     400606\n",
      "5     294002\n",
      "6     120888\n",
      "7      51489\n",
      "Name: count, dtype: int64\n"
     ]
    }
   ],
   "source": [
    "# Criação da coluna TP_FAIXA_SALARIAL\n",
    "\n",
    "# Criar mapeamento de faixa salarial para número de salários mínimos\n",
    "salario_mapping = {\n",
    "    'A': 0,            # Nenhuma Renda\n",
    "    'B': 1,            # Até 1 salário mínimo\n",
    "    'C': 2,            # 1-1.5 salários mínimos\n",
    "    'D': 2,            # 1.5-2 salários mínimos\n",
    "    'E': 3,            # 2-2.5 salários mínimos\n",
    "    'F': 3,            # 2.5-3 salários mínimos\n",
    "    'G': 4,            # 3-4 salários mínimos\n",
    "    'H': 4,            # 4-5 salários mínimos\n",
    "    'I': 5,            # 5-6 salários mínimos\n",
    "    'J': 5,            # 6-7 salários mínimos\n",
    "    'K': 5,            # 7-8 salários mínimos\n",
    "    'L': 5,            # 8-9 salários mínimos\n",
    "    'M': 5,            # 9-10 salários mínimos\n",
    "    'N': 6,            # 10-12 salários mínimos\n",
    "    'O': 6,            # 12-15 salários mínimos\n",
    "    'P': 6,            # 15-20 salários mínimos\n",
    "    'Q': 7             # Acima de 20 salários mínimos\n",
    "}\n",
    "\n",
    "# Descrição das categorias\n",
    "faixa_salarial_descricao = {\n",
    "    0: 'Nenhuma Renda',\n",
    "    1: 'Até 1 salário mínimo',\n",
    "    2: '1 a 2 salários mínimos',\n",
    "    3: '2 a 3 salários mínimos',\n",
    "    4: '3 a 5 salários mínimos',\n",
    "    5: '5 a 10 salários mínimos',\n",
    "    6: '10 a 20 salários mínimos',\n",
    "    7: 'Acima de 20 salários mínimos'\n",
    "}\n",
    "\n",
    "# Aplicar o mapeamento e criar a nova coluna\n",
    "microdados_V1['TP_FAIXA_SALARIAL'] = microdados_V1['Q006'].map(salario_mapping).astype('category')\n",
    "\n",
    "# Verificar a distribuição\n",
    "print(\"Distribuição da nova faixa salarial:\")\n",
    "print(microdados_V1['TP_FAIXA_SALARIAL'].value_counts().sort_index())"
   ]
  },
  {
   "cell_type": "code",
   "execution_count": 32,
   "metadata": {},
   "outputs": [],
   "source": [
    "#==================== OTIMIZAÇÂO DE DTYPES ====================#"
   ]
  },
  {
   "cell_type": "code",
   "execution_count": 33,
   "metadata": {},
   "outputs": [
    {
     "data": {
      "text/plain": [
       "20"
      ]
     },
     "execution_count": 33,
     "metadata": {},
     "output_type": "execute_result"
    }
   ],
   "source": [
    "microdados_V2 = microdados_V1.copy()\n",
    "del microdados_V1\n",
    "gc.collect()"
   ]
  },
  {
   "cell_type": "code",
   "execution_count": 34,
   "metadata": {},
   "outputs": [
    {
     "name": "stdout",
     "output_type": "stream",
     "text": [
      "<class 'pandas.core.frame.DataFrame'>\n",
      "RangeIndex: 3933955 entries, 0 to 3933954\n",
      "Data columns (total 52 columns):\n",
      " #   Column                  Dtype   \n",
      "---  ------                  -----   \n",
      " 0   TP_FAIXA_ETARIA         int64   \n",
      " 1   TP_SEXO                 object  \n",
      " 2   TP_ESTADO_CIVIL         int64   \n",
      " 3   TP_COR_RACA             int64   \n",
      " 4   TP_NACIONALIDADE        int64   \n",
      " 5   TP_ST_CONCLUSAO         int64   \n",
      " 6   TP_ESCOLA               int64   \n",
      " 7   TP_ENSINO               float64 \n",
      " 8   TP_DEPENDENCIA_ADM_ESC  float64 \n",
      " 9   TP_LOCALIZACAO_ESC      float64 \n",
      " 10  SG_UF_PROVA             object  \n",
      " 11  TP_PRESENCA_CN          int64   \n",
      " 12  TP_PRESENCA_CH          int64   \n",
      " 13  TP_PRESENCA_LC          int64   \n",
      " 14  TP_PRESENCA_MT          int64   \n",
      " 15  NU_NOTA_CN              float64 \n",
      " 16  NU_NOTA_CH              float64 \n",
      " 17  NU_NOTA_LC              float64 \n",
      " 18  NU_NOTA_MT              float64 \n",
      " 19  NU_NOTA_REDACAO         float64 \n",
      " 20  Q001                    object  \n",
      " 21  Q002                    object  \n",
      " 22  Q003                    object  \n",
      " 23  Q004                    object  \n",
      " 24  Q005                    int64   \n",
      " 25  Q006                    object  \n",
      " 26  Q007                    object  \n",
      " 27  Q008                    object  \n",
      " 28  Q009                    object  \n",
      " 29  Q010                    object  \n",
      " 30  Q011                    object  \n",
      " 31  Q012                    object  \n",
      " 32  Q013                    object  \n",
      " 33  Q014                    object  \n",
      " 34  Q015                    object  \n",
      " 35  Q016                    object  \n",
      " 36  Q017                    object  \n",
      " 37  Q018                    object  \n",
      " 38  Q019                    object  \n",
      " 39  Q020                    object  \n",
      " 40  Q021                    object  \n",
      " 41  Q022                    object  \n",
      " 42  Q023                    object  \n",
      " 43  Q024                    object  \n",
      " 44  Q025                    object  \n",
      " 45  NU_MEDIA_GERAL          float16 \n",
      " 46  SG_REGIAO               category\n",
      " 47  NU_DESEMPENHO           category\n",
      " 48  TP_PRESENCA_REDACAO     category\n",
      " 49  TP_PRESENCA_GERAL       category\n",
      " 50  NU_INFRAESTRUTURA       category\n",
      " 51  TP_FAIXA_SALARIAL       category\n",
      "dtypes: category(6), float16(1), float64(8), int64(11), object(26)\n",
      "memory usage: 1.3+ GB\n"
     ]
    }
   ],
   "source": [
    "microdados_V2.info()"
   ]
  },
  {
   "cell_type": "code",
   "execution_count": 35,
   "metadata": {},
   "outputs": [],
   "source": [
    "#Selecionar as colunas que podem ser convertidas para category\n",
    "colunas_categoria = [\n",
    "  \"TP_FAIXA_ETARIA\",\n",
    "  \"TP_SEXO\",\n",
    "  \"TP_ESTADO_CIVIL\",\n",
    "  \"TP_COR_RACA\",\n",
    "  \"TP_NACIONALIDADE\",\n",
    "  \"TP_ST_CONCLUSAO\",\n",
    "  \"TP_ESCOLA\",\n",
    "  \"TP_ENSINO\",\n",
    "  \"TP_DEPENDENCIA_ADM_ESC\",\n",
    "  \"TP_LOCALIZACAO_ESC\",\n",
    "  \"SG_UF_PROVA\",\n",
    "  \"TP_PRESENCA_CN\",\n",
    "  \"TP_PRESENCA_CH\",\n",
    "  \"TP_PRESENCA_LC\",\n",
    "  \"TP_PRESENCA_MT\",\n",
    "  \"Q001\",\n",
    "  \"Q002\",\n",
    "  \"Q005\",\n",
    "  \"Q025\",\n",
    "  'Q003', 'Q004', 'Q006', 'Q007',\n",
    "  'Q008', 'Q009', 'Q010', 'Q011', 'Q012', 'Q013', 'Q014', 'Q015', 'Q016',\n",
    "  'Q017', 'Q018', 'Q019', 'Q020', 'Q021', 'Q022', 'Q023', 'Q024'\n",
    "]\n",
    "\n",
    "microdados_V2[colunas_categoria] = microdados_V2[colunas_categoria].astype('category')"
   ]
  },
  {
   "cell_type": "code",
   "execution_count": 36,
   "metadata": {},
   "outputs": [
    {
     "name": "stdout",
     "output_type": "stream",
     "text": [
      "<class 'pandas.core.frame.DataFrame'>\n",
      "RangeIndex: 3933955 entries, 0 to 3933954\n",
      "Data columns (total 52 columns):\n",
      " #   Column                  Dtype   \n",
      "---  ------                  -----   \n",
      " 0   TP_FAIXA_ETARIA         category\n",
      " 1   TP_SEXO                 category\n",
      " 2   TP_ESTADO_CIVIL         category\n",
      " 3   TP_COR_RACA             category\n",
      " 4   TP_NACIONALIDADE        category\n",
      " 5   TP_ST_CONCLUSAO         category\n",
      " 6   TP_ESCOLA               category\n",
      " 7   TP_ENSINO               category\n",
      " 8   TP_DEPENDENCIA_ADM_ESC  category\n",
      " 9   TP_LOCALIZACAO_ESC      category\n",
      " 10  SG_UF_PROVA             category\n",
      " 11  TP_PRESENCA_CN          category\n",
      " 12  TP_PRESENCA_CH          category\n",
      " 13  TP_PRESENCA_LC          category\n",
      " 14  TP_PRESENCA_MT          category\n",
      " 15  NU_NOTA_CN              float64 \n",
      " 16  NU_NOTA_CH              float64 \n",
      " 17  NU_NOTA_LC              float64 \n",
      " 18  NU_NOTA_MT              float64 \n",
      " 19  NU_NOTA_REDACAO         float64 \n",
      " 20  Q001                    category\n",
      " 21  Q002                    category\n",
      " 22  Q003                    category\n",
      " 23  Q004                    category\n",
      " 24  Q005                    category\n",
      " 25  Q006                    category\n",
      " 26  Q007                    category\n",
      " 27  Q008                    category\n",
      " 28  Q009                    category\n",
      " 29  Q010                    category\n",
      " 30  Q011                    category\n",
      " 31  Q012                    category\n",
      " 32  Q013                    category\n",
      " 33  Q014                    category\n",
      " 34  Q015                    category\n",
      " 35  Q016                    category\n",
      " 36  Q017                    category\n",
      " 37  Q018                    category\n",
      " 38  Q019                    category\n",
      " 39  Q020                    category\n",
      " 40  Q021                    category\n",
      " 41  Q022                    category\n",
      " 42  Q023                    category\n",
      " 43  Q024                    category\n",
      " 44  Q025                    category\n",
      " 45  NU_MEDIA_GERAL          float16 \n",
      " 46  SG_REGIAO               category\n",
      " 47  NU_DESEMPENHO           category\n",
      " 48  TP_PRESENCA_REDACAO     category\n",
      " 49  TP_PRESENCA_GERAL       category\n",
      " 50  NU_INFRAESTRUTURA       category\n",
      " 51  TP_FAIXA_SALARIAL       category\n",
      "dtypes: category(46), float16(1), float64(5)\n",
      "memory usage: 330.2 MB\n"
     ]
    }
   ],
   "source": [
    "microdados_V2.info()"
   ]
  },
  {
   "cell_type": "code",
   "execution_count": 37,
   "metadata": {},
   "outputs": [],
   "source": [
    "#Remover colunas que não sera usadas\n",
    "microdados_V2.drop(columns=[\n",
    "    'Q003', 'Q004', 'Q006', 'Q007',\n",
    "    'Q008', 'Q009', 'Q010', 'Q011', 'Q012', 'Q013', 'Q014', 'Q015', 'Q016',\n",
    "    'Q017', 'Q018', 'Q019', 'Q020', 'Q021', 'Q022', 'Q023', 'Q024'\n",
    "], inplace=True)"
   ]
  },
  {
   "cell_type": "code",
   "execution_count": 40,
   "metadata": {},
   "outputs": [
    {
     "data": {
      "text/plain": [
       "Index(['NU_NOTA_CN', 'NU_NOTA_CH', 'NU_NOTA_LC', 'NU_NOTA_MT',\n",
       "       'NU_NOTA_REDACAO'],\n",
       "      dtype='object')"
      ]
     },
     "execution_count": 40,
     "metadata": {},
     "output_type": "execute_result"
    }
   ],
   "source": [
    "\"\"\"\n",
    "Restante das colunas podem ser convertidas para int64 inicialmente e depois tratada conforme a necessidade\n",
    "\"\"\"\n",
    "\n",
    "colunas_float64=microdados_V2.select_dtypes(include='float64').columns\n",
    "colunas_float64"
   ]
  },
  {
   "cell_type": "code",
   "execution_count": 44,
   "metadata": {},
   "outputs": [
    {
     "name": "stdout",
     "output_type": "stream",
     "text": [
      "Valor máximo encontrado: 1000.0\n",
      "<class 'pandas.core.frame.DataFrame'>\n",
      "RangeIndex: 3933955 entries, 0 to 3933954\n",
      "Data columns (total 31 columns):\n",
      " #   Column                  Dtype   \n",
      "---  ------                  -----   \n",
      " 0   TP_FAIXA_ETARIA         category\n",
      " 1   TP_SEXO                 category\n",
      " 2   TP_ESTADO_CIVIL         category\n",
      " 3   TP_COR_RACA             category\n",
      " 4   TP_NACIONALIDADE        category\n",
      " 5   TP_ST_CONCLUSAO         category\n",
      " 6   TP_ESCOLA               category\n",
      " 7   TP_ENSINO               category\n",
      " 8   TP_DEPENDENCIA_ADM_ESC  category\n",
      " 9   TP_LOCALIZACAO_ESC      category\n",
      " 10  SG_UF_PROVA             category\n",
      " 11  TP_PRESENCA_CN          category\n",
      " 12  TP_PRESENCA_CH          category\n",
      " 13  TP_PRESENCA_LC          category\n",
      " 14  TP_PRESENCA_MT          category\n",
      " 15  NU_NOTA_CN              int16   \n",
      " 16  NU_NOTA_CH              int16   \n",
      " 17  NU_NOTA_LC              int16   \n",
      " 18  NU_NOTA_MT              int16   \n",
      " 19  NU_NOTA_REDACAO         int16   \n",
      " 20  Q001                    category\n",
      " 21  Q002                    category\n",
      " 22  Q005                    category\n",
      " 23  Q025                    category\n",
      " 24  NU_MEDIA_GERAL          float16 \n",
      " 25  SG_REGIAO               category\n",
      " 26  NU_DESEMPENHO           category\n",
      " 27  TP_PRESENCA_REDACAO     category\n",
      " 28  TP_PRESENCA_GERAL       category\n",
      " 29  NU_INFRAESTRUTURA       category\n",
      " 30  TP_FAIXA_SALARIAL       category\n",
      "dtypes: category(25), float16(1), int16(5)\n",
      "memory usage: 138.8 MB\n"
     ]
    }
   ],
   "source": [
    "\"\"\"\n",
    "Selecionar colunas que possuem apenas valores float\n",
    "Analizar valor maximo para verificar se é possivel converter para float16\n",
    "Converter colunas float64 para float16\n",
    "\"\"\"\n",
    "colunas_float64 = [\n",
    "    'NU_NOTA_CN', 'NU_NOTA_CH', 'NU_NOTA_LC', 'NU_NOTA_MT', 'NU_NOTA_REDACAO',\n",
    "]\n",
    "\n",
    "print(f'Valor máximo encontrado: {microdados_V2[colunas_float64].max().max()}')\n",
    "microdados_V2[colunas_float64] = microdados_V2[colunas_float64] * 10\n",
    "microdados_V2[colunas_float64] = microdados_V2[colunas_float64].astype('int16')\n",
    "microdados_V2.info()"
   ]
  },
  {
   "cell_type": "markdown",
   "metadata": {},
   "source": []
  },
  {
   "cell_type": "code",
   "execution_count": 47,
   "metadata": {},
   "outputs": [],
   "source": [
    "#==================== SALVAR DADOS TRATADOS ====================#"
   ]
  },
  {
   "cell_type": "code",
   "execution_count": 48,
   "metadata": {},
   "outputs": [],
   "source": [
    "microdados_V3 = microdados_V2.copy()"
   ]
  },
  {
   "cell_type": "code",
   "execution_count": 49,
   "metadata": {},
   "outputs": [
    {
     "name": "stdout",
     "output_type": "stream",
     "text": [
      "<class 'pandas.core.frame.DataFrame'>\n",
      "RangeIndex: 3933955 entries, 0 to 3933954\n",
      "Data columns (total 31 columns):\n",
      " #   Column                  Dtype   \n",
      "---  ------                  -----   \n",
      " 0   TP_FAIXA_ETARIA         category\n",
      " 1   TP_SEXO                 category\n",
      " 2   TP_ESTADO_CIVIL         category\n",
      " 3   TP_COR_RACA             category\n",
      " 4   TP_NACIONALIDADE        category\n",
      " 5   TP_ST_CONCLUSAO         category\n",
      " 6   TP_ESCOLA               category\n",
      " 7   TP_ENSINO               category\n",
      " 8   TP_DEPENDENCIA_ADM_ESC  category\n",
      " 9   TP_LOCALIZACAO_ESC      category\n",
      " 10  SG_UF_PROVA             category\n",
      " 11  TP_PRESENCA_CN          category\n",
      " 12  TP_PRESENCA_CH          category\n",
      " 13  TP_PRESENCA_LC          category\n",
      " 14  TP_PRESENCA_MT          category\n",
      " 15  NU_NOTA_CN              int16   \n",
      " 16  NU_NOTA_CH              int16   \n",
      " 17  NU_NOTA_LC              int16   \n",
      " 18  NU_NOTA_MT              int16   \n",
      " 19  NU_NOTA_REDACAO         int16   \n",
      " 20  Q001                    category\n",
      " 21  Q002                    category\n",
      " 22  Q005                    category\n",
      " 23  Q025                    category\n",
      " 24  NU_MEDIA_GERAL          float16 \n",
      " 25  SG_REGIAO               category\n",
      " 26  NU_DESEMPENHO           category\n",
      " 27  TP_PRESENCA_REDACAO     category\n",
      " 28  TP_PRESENCA_GERAL       category\n",
      " 29  NU_INFRAESTRUTURA       category\n",
      " 30  TP_FAIXA_SALARIAL       category\n",
      "dtypes: category(25), float16(1), int16(5)\n",
      "memory usage: 138.8 MB\n"
     ]
    }
   ],
   "source": [
    "microdados_V3.info()"
   ]
  },
  {
   "cell_type": "code",
   "execution_count": 50,
   "metadata": {},
   "outputs": [],
   "source": [
    "# Mapeia os tipos de dados otimizados\n",
    "dtypes_dict = microdados_V3.dtypes.apply(str).to_dict()\n",
    "\n",
    "# Salva o mapeamento em um arquivo JSON\n",
    "with open('dtypes.json', 'w') as f:\n",
    "    json.dump(dtypes_dict, f)"
   ]
  },
  {
   "cell_type": "code",
   "execution_count": 51,
   "metadata": {},
   "outputs": [],
   "source": [
    "# Salva o conjunto de dados tratado em um novo arquivo CSV\n",
    "microdados_V3.to_parquet(output_file, index=False, engine='pyarrow')"
   ]
  },
  {
   "cell_type": "code",
   "execution_count": 52,
   "metadata": {},
   "outputs": [
    {
     "data": {
      "text/plain": [
       "NU_DESEMPENHO\n",
       "2    2061652\n",
       "3    1130254\n",
       "1     742049\n",
       "Name: count, dtype: int64"
      ]
     },
     "execution_count": 52,
     "metadata": {},
     "output_type": "execute_result"
    }
   ],
   "source": [
    "microdados_V3['NU_DESEMPENHO'].value_counts()"
   ]
  },
  {
   "cell_type": "code",
   "execution_count": 53,
   "metadata": {},
   "outputs": [
    {
     "data": {
      "text/plain": [
       "NU_MEDIA_GERAL\n",
       "524.50000    5956\n",
       "535.00000    5955\n",
       "529.50000    5948\n",
       "526.50000    5919\n",
       "523.00000    5910\n",
       "             ... \n",
       "103.00000       1\n",
       "861.00000       1\n",
       "109.68750       1\n",
       "122.68750       1\n",
       "59.40625        1\n",
       "Name: count, Length: 3022, dtype: int64"
      ]
     },
     "execution_count": 53,
     "metadata": {},
     "output_type": "execute_result"
    }
   ],
   "source": [
    "microdados_V3['NU_MEDIA_GERAL'].value_counts()"
   ]
  }
 ],
 "metadata": {
  "kernelspec": {
   "display_name": ".venv (3.13.3)",
   "language": "python",
   "name": "python3"
  },
  "language_info": {
   "codemirror_mode": {
    "name": "ipython",
    "version": 3
   },
   "file_extension": ".py",
   "mimetype": "text/x-python",
   "name": "python",
   "nbconvert_exporter": "python",
   "pygments_lexer": "ipython3",
   "version": "3.13.5"
  }
 },
 "nbformat": 4,
 "nbformat_minor": 2
}
