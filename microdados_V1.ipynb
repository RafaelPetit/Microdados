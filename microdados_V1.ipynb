{
 "cells": [
  {
   "cell_type": "code",
   "execution_count": 1,
   "metadata": {},
   "outputs": [
    {
     "data": {
      "text/plain": [
       "\"\\nEsse código é responsavel por tratar os dados, assim tratando os seguintes cenarios:\\n- Remover colunas que não serão utilizadas\\n- tratar linhas que possuem valores nulos\\n    - Colunas nulas numericas serão preenchidas com a -1\\n    - Colunas nulas String serão preenchidas com a string 'Desconhecido'\\n- tratar linhas que possuem valores duplicados\\n- tratar linhas que possuem valores fora do padrão\\n    - Colunas serão tratadas de acordo com o tipo de dado\\n    - float pode ser convertido para int\\n    - float 64 pode ser convertido para float 32 ou float 16\\n    - string pode ser convertida para categoria\\n    - int pode ser convertido para int8, int16, int32, int64\\n- Otimizar tipos de dados\\n- Salvar os tipos de dados otimizados em um arquivo externo\\n- Salvar os dados tratados em um novo arquivo\\n\""
      ]
     },
     "execution_count": 1,
     "metadata": {},
     "output_type": "execute_result"
    }
   ],
   "source": [
    "\"\"\"\n",
    "Esse código é responsavel por tratar os dados, assim tratando os seguintes cenarios:\n",
    "- Remover colunas que não serão utilizadas\n",
    "- tratar linhas que possuem valores nulos\n",
    "    - Colunas nulas numericas serão preenchidas com a -1\n",
    "    - Colunas nulas String serão preenchidas com a string 'Desconhecido'\n",
    "- tratar linhas que possuem valores duplicados\n",
    "- tratar linhas que possuem valores fora do padrão\n",
    "    - Colunas serão tratadas de acordo com o tipo de dado\n",
    "    - float pode ser convertido para int\n",
    "    - float 64 pode ser convertido para float 32 ou float 16\n",
    "    - string pode ser convertida para categoria\n",
    "    - int pode ser convertido para int8, int16, int32, int64\n",
    "- Otimizar tipos de dados\n",
    "- Salvar os tipos de dados otimizados em um arquivo externo\n",
    "- Salvar os dados tratados em um novo arquivo\n",
    "\"\"\""
   ]
  },
  {
   "cell_type": "code",
   "execution_count": 2,
   "metadata": {},
   "outputs": [],
   "source": [
    "# Criando um dicionário para mapear os valores das colunas Q007 a Q025\n",
    "pontuacao = {\n",
    "    'Q007': {'A': 0, 'B': 1, 'C': 2, 'D': 3},            # Empregados domésticos\n",
    "    'Q008': {'A': 0, 'B': 1, 'C': 2, 'D': 3, 'E': 4},    # Banheiros\n",
    "    'Q009': {'A': 0, 'B': 1, 'C': 2, 'D': 3, 'E': 4},    # Quartos\n",
    "    'Q010': {'A': 0, 'B': 1, 'C': 2, 'D': 3, 'E': 4},    # Carro\n",
    "    'Q011': {'A': 0, 'B': 1, 'C': 2, 'D': 3, 'E': 4},    # Moto\n",
    "    'Q012': {'A': 0, 'B': 1, 'C': 2, 'D': 3, 'E': 4},    # Geladeira\n",
    "    'Q013': {'A': 0, 'B': 1, 'C': 2, 'D': 3, 'E': 4},    # Freezer\n",
    "    'Q014': {'A': 0, 'B': 1, 'C': 2, 'D': 3, 'E': 4},    # Máquina de lavar\n",
    "    'Q015': {'A': 0, 'B': 1, 'C': 2, 'D': 3, 'E': 4},    # Máquina de secar\n",
    "    'Q016': {'A': 0, 'B': 1, 'C': 2, 'D': 3, 'E': 4},    # Forno micro-ondas\n",
    "    'Q017': {'A': 0, 'B': 1, 'C': 2, 'D': 3, 'E': 4},    # Máquina de lavar louça\n",
    "    'Q018': {'A': 0, 'B': 1},                            # Aspirador de pó\n",
    "    'Q019': {'A': 0, 'B': 1, 'C': 2, 'D': 3, 'E': 4},    # Televisor\n",
    "    'Q020': {'A': 0, 'B': 1},                            # Aparelho de DVD\n",
    "    'Q021': {'A': 0, 'B': 1},                            # Televisão por assinatura\n",
    "    'Q022': {'A': 0, 'B': 1, 'C': 2, 'D': 3, 'E': 4},    # Celular\n",
    "    'Q023': {'A': 0, 'B': 1},                            # Telefone fixo\n",
    "    'Q024': {'A': 0, 'B': 1, 'C': 2, 'D': 3, 'E': 4},    # Computador\n",
    "    'Q025': {'A': 0, 'B': 1},                            # Internet\n",
    "}"
   ]
  },
  {
   "cell_type": "code",
   "execution_count": 3,
   "metadata": {},
   "outputs": [],
   "source": [
    "import seaborn as sns\n",
    "import pandas as pd\n",
    "import chardet\n",
    "import json\n",
    "import gc\n",
    "import matplotlib.pyplot as plt"
   ]
  },
  {
   "cell_type": "code",
   "execution_count": 4,
   "metadata": {},
   "outputs": [],
   "source": [
    "input_file = '../microdados_enem_2023/DADOS/MICRODADOS_ENEM_2023.csv'\n",
    "output_file = 'microdados_tratado.csv'\n",
    "\n",
    "# Verifica o encoding original do arquivo do arquivo (ISO-8859-1)\n",
    "with open(input_file, 'rb') as f:\n",
    "    resultado = chardet.detect(f.read(10000))\n",
    "    encoding_original = resultado['encoding']\n",
    "\n",
    "microdados_V1 = pd.read_csv(input_file, sep=';', encoding=encoding_original, low_memory=False)"
   ]
  },
  {
   "cell_type": "code",
   "execution_count": 5,
   "metadata": {},
   "outputs": [
    {
     "name": "stdout",
     "output_type": "stream",
     "text": [
      "Total de linhas: 3933955\n",
      "Total de linhas com algum valor nulo: 3225341\n",
      "Total de linhas sem valores nulos: 708614\n"
     ]
    }
   ],
   "source": [
    "# Verifica a quantidade de linhas total do arquivo\n",
    "total_linhas = microdados_V1.shape[0]\n",
    "print(f'Total de linhas: {total_linhas}')\n",
    "\n",
    "# Verifica a quantidade de linhas que possuem qualquer valor nulo\n",
    "linhas_com_nulos = microdados_V1.isnull().any(axis=1).sum()\n",
    "print(f'Total de linhas com algum valor nulo: {linhas_com_nulos}')\n",
    "\n",
    "# Verifica a quantidade de linhas sem valores nulos\n",
    "total_linhas_sem_nulos = total_linhas - linhas_com_nulos\n",
    "print(f'Total de linhas sem valores nulos: {total_linhas_sem_nulos}')"
   ]
  },
  {
   "cell_type": "code",
   "execution_count": 6,
   "metadata": {},
   "outputs": [],
   "source": [
    "#Remover colunas que não sera usadas\n",
    "microdados_V1.drop(columns=[\n",
    "'NU_INSCRICAO',\n",
    "'NU_ANO',\n",
    "'IN_TREINEIRO',\n",
    "'CO_MUNICIPIO_ESC',\n",
    "'CO_UF_ESC',\n",
    "'TP_SIT_FUNC_ESC',\n",
    "'CO_MUNICIPIO_PROVA',\n",
    "'CO_UF_PROVA',\n",
    "'CO_PROVA_CN',\n",
    "'CO_PROVA_CH',\n",
    "'CO_PROVA_LC',\n",
    "'CO_PROVA_MT',\n",
    "'TP_ESCOLA',\n",
    "], inplace=True)\n",
    "# microdados_V1.reset_index(drop=True, inplace=True)"
   ]
  },
  {
   "cell_type": "code",
   "execution_count": 7,
   "metadata": {},
   "outputs": [],
   "source": [
    "#==================== DADOS NULOS ====================#"
   ]
  },
  {
   "cell_type": "code",
   "execution_count": 8,
   "metadata": {},
   "outputs": [
    {
     "name": "stdout",
     "output_type": "stream",
     "text": [
      "Total de linhas: 3933955\n",
      "Total de linhas com algum valor nulo: 3225341\n",
      "Total de linhas restantes: 708614\n"
     ]
    }
   ],
   "source": [
    "# Verifica a quantidade de linhas total do arquivo\n",
    "total_linhas = microdados_V1.shape[0]\n",
    "print(f'Total de linhas: {total_linhas}')\n",
    "\n",
    "# Verifica a quantidade de linhas que possuem qualquer valor nulo\n",
    "linhas_com_nulos = microdados_V1.isnull().any(axis=1).sum()\n",
    "print(f'Total de linhas com algum valor nulo: {linhas_com_nulos}')\n",
    "\n",
    "# Verifica a quantidade de linhas restantes\n",
    "total_linhas_restantes = total_linhas - linhas_com_nulos\n",
    "print(f'Total de linhas restantes: {total_linhas_restantes}')"
   ]
  },
  {
   "cell_type": "code",
   "execution_count": 9,
   "metadata": {},
   "outputs": [
    {
     "name": "stdout",
     "output_type": "stream",
     "text": [
      "<class 'pandas.core.frame.DataFrame'>\n",
      "RangeIndex: 3933955 entries, 0 to 3933954\n",
      "Data columns (total 63 columns):\n",
      " #   Column                  Dtype  \n",
      "---  ------                  -----  \n",
      " 0   TP_FAIXA_ETARIA         int64  \n",
      " 1   TP_SEXO                 object \n",
      " 2   TP_ESTADO_CIVIL         int64  \n",
      " 3   TP_COR_RACA             int64  \n",
      " 4   TP_NACIONALIDADE        int64  \n",
      " 5   TP_ST_CONCLUSAO         int64  \n",
      " 6   TP_ANO_CONCLUIU         int64  \n",
      " 7   TP_ENSINO               float64\n",
      " 8   NO_MUNICIPIO_ESC        object \n",
      " 9   SG_UF_ESC               object \n",
      " 10  TP_DEPENDENCIA_ADM_ESC  float64\n",
      " 11  TP_LOCALIZACAO_ESC      float64\n",
      " 12  NO_MUNICIPIO_PROVA      object \n",
      " 13  SG_UF_PROVA             object \n",
      " 14  TP_PRESENCA_CN          int64  \n",
      " 15  TP_PRESENCA_CH          int64  \n",
      " 16  TP_PRESENCA_LC          int64  \n",
      " 17  TP_PRESENCA_MT          int64  \n",
      " 18  NU_NOTA_CN              float64\n",
      " 19  NU_NOTA_CH              float64\n",
      " 20  NU_NOTA_LC              float64\n",
      " 21  NU_NOTA_MT              float64\n",
      " 22  TX_RESPOSTAS_CN         object \n",
      " 23  TX_RESPOSTAS_CH         object \n",
      " 24  TX_RESPOSTAS_LC         object \n",
      " 25  TX_RESPOSTAS_MT         object \n",
      " 26  TP_LINGUA               int64  \n",
      " 27  TX_GABARITO_CN          object \n",
      " 28  TX_GABARITO_CH          object \n",
      " 29  TX_GABARITO_LC          object \n",
      " 30  TX_GABARITO_MT          object \n",
      " 31  TP_STATUS_REDACAO       float64\n",
      " 32  NU_NOTA_COMP1           float64\n",
      " 33  NU_NOTA_COMP2           float64\n",
      " 34  NU_NOTA_COMP3           float64\n",
      " 35  NU_NOTA_COMP4           float64\n",
      " 36  NU_NOTA_COMP5           float64\n",
      " 37  NU_NOTA_REDACAO         float64\n",
      " 38  Q001                    object \n",
      " 39  Q002                    object \n",
      " 40  Q003                    object \n",
      " 41  Q004                    object \n",
      " 42  Q005                    int64  \n",
      " 43  Q006                    object \n",
      " 44  Q007                    object \n",
      " 45  Q008                    object \n",
      " 46  Q009                    object \n",
      " 47  Q010                    object \n",
      " 48  Q011                    object \n",
      " 49  Q012                    object \n",
      " 50  Q013                    object \n",
      " 51  Q014                    object \n",
      " 52  Q015                    object \n",
      " 53  Q016                    object \n",
      " 54  Q017                    object \n",
      " 55  Q018                    object \n",
      " 56  Q019                    object \n",
      " 57  Q020                    object \n",
      " 58  Q021                    object \n",
      " 59  Q022                    object \n",
      " 60  Q023                    object \n",
      " 61  Q024                    object \n",
      " 62  Q025                    object \n",
      "dtypes: float64(14), int64(12), object(37)\n",
      "memory usage: 1.8+ GB\n"
     ]
    }
   ],
   "source": [
    "# Verificar informações sobre os dados\n",
    "microdados_V1.info()"
   ]
  },
  {
   "cell_type": "code",
   "execution_count": 10,
   "metadata": {},
   "outputs": [
    {
     "data": {
      "text/plain": [
       "Index(['TP_ENSINO', 'NO_MUNICIPIO_ESC', 'SG_UF_ESC', 'TP_DEPENDENCIA_ADM_ESC',\n",
       "       'TP_LOCALIZACAO_ESC', 'NU_NOTA_CN', 'NU_NOTA_CH', 'NU_NOTA_LC',\n",
       "       'NU_NOTA_MT', 'TX_RESPOSTAS_CN', 'TX_RESPOSTAS_CH', 'TX_RESPOSTAS_LC',\n",
       "       'TX_RESPOSTAS_MT', 'TX_GABARITO_CN', 'TX_GABARITO_CH', 'TX_GABARITO_LC',\n",
       "       'TX_GABARITO_MT', 'TP_STATUS_REDACAO', 'NU_NOTA_COMP1', 'NU_NOTA_COMP2',\n",
       "       'NU_NOTA_COMP3', 'NU_NOTA_COMP4', 'NU_NOTA_COMP5', 'NU_NOTA_REDACAO'],\n",
       "      dtype='object')"
      ]
     },
     "execution_count": 10,
     "metadata": {},
     "output_type": "execute_result"
    }
   ],
   "source": [
    "# Localizando colunas nulas\n",
    "nulos = microdados_V1.columns[microdados_V1.isnull().any()]\n",
    "nulos"
   ]
  },
  {
   "cell_type": "code",
   "execution_count": 11,
   "metadata": {},
   "outputs": [],
   "source": [
    "# # Localizando colunas nulas de cada tipo\n",
    "# nulos_number = microdados_V1[nulos].select_dtypes(include='number').columns\n",
    "# nulos_string = microdados_V1[nulos].select_dtypes(include='object').columns\n",
    "# nulos_number, nulos_string"
   ]
  },
  {
   "cell_type": "code",
   "execution_count": 12,
   "metadata": {},
   "outputs": [
    {
     "data": {
      "text/plain": [
       "NU_NOTA_CN         True\n",
       "NU_NOTA_CH         True\n",
       "NU_NOTA_LC         True\n",
       "NU_NOTA_MT         True\n",
       "NU_NOTA_COMP1      True\n",
       "NU_NOTA_COMP2      True\n",
       "NU_NOTA_COMP3      True\n",
       "NU_NOTA_COMP4      True\n",
       "NU_NOTA_COMP5      True\n",
       "NU_NOTA_REDACAO    True\n",
       "dtype: bool"
      ]
     },
     "execution_count": 12,
     "metadata": {},
     "output_type": "execute_result"
    }
   ],
   "source": [
    "\"\"\"\n",
    "Selecionar colunas nulas relacionadas as notas do candidato\n",
    "Verificar existencia de candidatos tiraram nota 0\n",
    "Verificar existencia de valores igual a -1\n",
    "\"\"\"\n",
    "colunas_notas = [\n",
    "    'NU_NOTA_CN', 'NU_NOTA_CH', 'NU_NOTA_LC', 'NU_NOTA_MT',\n",
    "    'NU_NOTA_COMP1', 'NU_NOTA_COMP2', 'NU_NOTA_COMP3', 'NU_NOTA_COMP4',\n",
    "    'NU_NOTA_COMP5', 'NU_NOTA_REDACAO',\n",
    "]\n",
    "\n",
    "microdados_V1[colunas_notas].min() == 0"
   ]
  },
  {
   "cell_type": "code",
   "execution_count": 13,
   "metadata": {},
   "outputs": [
    {
     "data": {
      "text/plain": [
       "NU_NOTA_CN         False\n",
       "NU_NOTA_CH         False\n",
       "NU_NOTA_LC         False\n",
       "NU_NOTA_MT         False\n",
       "NU_NOTA_COMP1      False\n",
       "NU_NOTA_COMP2      False\n",
       "NU_NOTA_COMP3      False\n",
       "NU_NOTA_COMP4      False\n",
       "NU_NOTA_COMP5      False\n",
       "NU_NOTA_REDACAO    False\n",
       "dtype: bool"
      ]
     },
     "execution_count": 13,
     "metadata": {},
     "output_type": "execute_result"
    }
   ],
   "source": [
    "microdados_V1[colunas_notas].min() == -1"
   ]
  },
  {
   "cell_type": "code",
   "execution_count": 14,
   "metadata": {},
   "outputs": [
    {
     "data": {
      "text/html": [
       "<div>\n",
       "<style scoped>\n",
       "    .dataframe tbody tr th:only-of-type {\n",
       "        vertical-align: middle;\n",
       "    }\n",
       "\n",
       "    .dataframe tbody tr th {\n",
       "        vertical-align: top;\n",
       "    }\n",
       "\n",
       "    .dataframe thead th {\n",
       "        text-align: right;\n",
       "    }\n",
       "</style>\n",
       "<table border=\"1\" class=\"dataframe\">\n",
       "  <thead>\n",
       "    <tr style=\"text-align: right;\">\n",
       "      <th></th>\n",
       "      <th>NU_NOTA_CN</th>\n",
       "      <th>NU_NOTA_CH</th>\n",
       "      <th>NU_NOTA_LC</th>\n",
       "      <th>NU_NOTA_MT</th>\n",
       "      <th>NU_NOTA_COMP1</th>\n",
       "      <th>NU_NOTA_COMP2</th>\n",
       "      <th>NU_NOTA_COMP3</th>\n",
       "      <th>NU_NOTA_COMP4</th>\n",
       "      <th>NU_NOTA_COMP5</th>\n",
       "      <th>NU_NOTA_REDACAO</th>\n",
       "    </tr>\n",
       "  </thead>\n",
       "  <tbody>\n",
       "    <tr>\n",
       "      <th>0</th>\n",
       "      <td>-1.0</td>\n",
       "      <td>-1.0</td>\n",
       "      <td>-1.0</td>\n",
       "      <td>-1.0</td>\n",
       "      <td>-1.0</td>\n",
       "      <td>-1.0</td>\n",
       "      <td>-1.0</td>\n",
       "      <td>-1.0</td>\n",
       "      <td>-1.0</td>\n",
       "      <td>-1.0</td>\n",
       "    </tr>\n",
       "    <tr>\n",
       "      <th>1</th>\n",
       "      <td>-1.0</td>\n",
       "      <td>-1.0</td>\n",
       "      <td>-1.0</td>\n",
       "      <td>-1.0</td>\n",
       "      <td>-1.0</td>\n",
       "      <td>-1.0</td>\n",
       "      <td>-1.0</td>\n",
       "      <td>-1.0</td>\n",
       "      <td>-1.0</td>\n",
       "      <td>-1.0</td>\n",
       "    </tr>\n",
       "    <tr>\n",
       "      <th>2</th>\n",
       "      <td>502.0</td>\n",
       "      <td>498.9</td>\n",
       "      <td>475.6</td>\n",
       "      <td>363.2</td>\n",
       "      <td>140.0</td>\n",
       "      <td>200.0</td>\n",
       "      <td>100.0</td>\n",
       "      <td>120.0</td>\n",
       "      <td>140.0</td>\n",
       "      <td>700.0</td>\n",
       "    </tr>\n",
       "    <tr>\n",
       "      <th>3</th>\n",
       "      <td>459.0</td>\n",
       "      <td>508.5</td>\n",
       "      <td>507.2</td>\n",
       "      <td>466.7</td>\n",
       "      <td>140.0</td>\n",
       "      <td>200.0</td>\n",
       "      <td>160.0</td>\n",
       "      <td>180.0</td>\n",
       "      <td>200.0</td>\n",
       "      <td>880.0</td>\n",
       "    </tr>\n",
       "    <tr>\n",
       "      <th>4</th>\n",
       "      <td>402.5</td>\n",
       "      <td>379.2</td>\n",
       "      <td>446.9</td>\n",
       "      <td>338.3</td>\n",
       "      <td>120.0</td>\n",
       "      <td>120.0</td>\n",
       "      <td>120.0</td>\n",
       "      <td>120.0</td>\n",
       "      <td>80.0</td>\n",
       "      <td>560.0</td>\n",
       "    </tr>\n",
       "  </tbody>\n",
       "</table>\n",
       "</div>"
      ],
      "text/plain": [
       "   NU_NOTA_CN  NU_NOTA_CH  NU_NOTA_LC  NU_NOTA_MT  NU_NOTA_COMP1  \\\n",
       "0        -1.0        -1.0        -1.0        -1.0           -1.0   \n",
       "1        -1.0        -1.0        -1.0        -1.0           -1.0   \n",
       "2       502.0       498.9       475.6       363.2          140.0   \n",
       "3       459.0       508.5       507.2       466.7          140.0   \n",
       "4       402.5       379.2       446.9       338.3          120.0   \n",
       "\n",
       "   NU_NOTA_COMP2  NU_NOTA_COMP3  NU_NOTA_COMP4  NU_NOTA_COMP5  NU_NOTA_REDACAO  \n",
       "0           -1.0           -1.0           -1.0           -1.0             -1.0  \n",
       "1           -1.0           -1.0           -1.0           -1.0             -1.0  \n",
       "2          200.0          100.0          120.0          140.0            700.0  \n",
       "3          200.0          160.0          180.0          200.0            880.0  \n",
       "4          120.0          120.0          120.0           80.0            560.0  "
      ]
     },
     "execution_count": 14,
     "metadata": {},
     "output_type": "execute_result"
    }
   ],
   "source": [
    "\"\"\"\n",
    "Exitem candidatos que tiraram nota 0 na provas\n",
    "Analisado que não existem valores -1 nas notas dos candidatos\t\n",
    "\"\"\"\n",
    "microdados_V1[colunas_notas] = microdados_V1[colunas_notas].fillna(-1)\n",
    "microdados_V1[colunas_notas].head()"
   ]
  },
  {
   "cell_type": "code",
   "execution_count": 15,
   "metadata": {},
   "outputs": [],
   "source": [
    "# \"\"\"\n",
    "# Tratar colunas de dtype string nulas\n",
    "# Sendo valores do tipo string, preencher com a string 'Desconhecido'\n",
    "# \"\"\"\n",
    "# colunas_gabarito = [\n",
    "#     'TX_RESPOSTAS_CN', 'TX_RESPOSTAS_CH', 'TX_RESPOSTAS_LC', 'TX_RESPOSTAS_MT',\n",
    "#     'TX_GABARITO_CN', 'TX_GABARITO_CH', 'TX_GABARITO_LC', 'TX_GABARITO_MT',\n",
    "# ]\n",
    "\n",
    "# microdados_V1[colunas_gabarito] = microdados_V1[colunas_gabarito].fillna('Desconhecido')\n",
    "# microdados_V1[colunas_gabarito].head()"
   ]
  },
  {
   "cell_type": "code",
   "execution_count": 16,
   "metadata": {},
   "outputs": [
    {
     "data": {
      "text/plain": [
       "np.int64(0)"
      ]
     },
     "execution_count": 16,
     "metadata": {},
     "output_type": "execute_result"
    }
   ],
   "source": [
    "# Verfica a quantidade de linhas nulas restantes nas colunas tratadas\n",
    "# microdados_V1[colunas_gabarito].isna().sum().sum()\n",
    "microdados_V1[colunas_notas].isna().sum().sum()"
   ]
  },
  {
   "cell_type": "code",
   "execution_count": 17,
   "metadata": {},
   "outputs": [
    {
     "data": {
      "text/plain": [
       "Index(['TP_ENSINO', 'NO_MUNICIPIO_ESC', 'SG_UF_ESC', 'TP_DEPENDENCIA_ADM_ESC',\n",
       "       'TP_LOCALIZACAO_ESC', 'TX_RESPOSTAS_CN', 'TX_RESPOSTAS_CH',\n",
       "       'TX_RESPOSTAS_LC', 'TX_RESPOSTAS_MT', 'TX_GABARITO_CN',\n",
       "       'TX_GABARITO_CH', 'TX_GABARITO_LC', 'TX_GABARITO_MT',\n",
       "       'TP_STATUS_REDACAO'],\n",
       "      dtype='object')"
      ]
     },
     "execution_count": 17,
     "metadata": {},
     "output_type": "execute_result"
    }
   ],
   "source": [
    "# Verifica a quantidade de colunas nulas restantes\n",
    "colunas_com_nulos = microdados_V1.columns[microdados_V1.isnull().any()]\n",
    "colunas_com_nulos"
   ]
  },
  {
   "cell_type": "code",
   "execution_count": 18,
   "metadata": {},
   "outputs": [
    {
     "data": {
      "text/html": [
       "<div>\n",
       "<style scoped>\n",
       "    .dataframe tbody tr th:only-of-type {\n",
       "        vertical-align: middle;\n",
       "    }\n",
       "\n",
       "    .dataframe tbody tr th {\n",
       "        vertical-align: top;\n",
       "    }\n",
       "\n",
       "    .dataframe thead th {\n",
       "        text-align: right;\n",
       "    }\n",
       "</style>\n",
       "<table border=\"1\" class=\"dataframe\">\n",
       "  <thead>\n",
       "    <tr style=\"text-align: right;\">\n",
       "      <th></th>\n",
       "      <th>TP_ENSINO</th>\n",
       "      <th>NO_MUNICIPIO_ESC</th>\n",
       "      <th>SG_UF_ESC</th>\n",
       "      <th>TP_DEPENDENCIA_ADM_ESC</th>\n",
       "      <th>TP_LOCALIZACAO_ESC</th>\n",
       "      <th>TX_RESPOSTAS_CN</th>\n",
       "      <th>TX_RESPOSTAS_CH</th>\n",
       "      <th>TX_RESPOSTAS_LC</th>\n",
       "      <th>TX_RESPOSTAS_MT</th>\n",
       "      <th>TX_GABARITO_CN</th>\n",
       "      <th>TX_GABARITO_CH</th>\n",
       "      <th>TX_GABARITO_LC</th>\n",
       "      <th>TX_GABARITO_MT</th>\n",
       "      <th>TP_STATUS_REDACAO</th>\n",
       "    </tr>\n",
       "  </thead>\n",
       "  <tbody>\n",
       "    <tr>\n",
       "      <th>0</th>\n",
       "      <td>NaN</td>\n",
       "      <td>NaN</td>\n",
       "      <td>NaN</td>\n",
       "      <td>NaN</td>\n",
       "      <td>NaN</td>\n",
       "      <td>NaN</td>\n",
       "      <td>NaN</td>\n",
       "      <td>NaN</td>\n",
       "      <td>NaN</td>\n",
       "      <td>NaN</td>\n",
       "      <td>NaN</td>\n",
       "      <td>NaN</td>\n",
       "      <td>NaN</td>\n",
       "      <td>NaN</td>\n",
       "    </tr>\n",
       "    <tr>\n",
       "      <th>1</th>\n",
       "      <td>NaN</td>\n",
       "      <td>NaN</td>\n",
       "      <td>NaN</td>\n",
       "      <td>NaN</td>\n",
       "      <td>NaN</td>\n",
       "      <td>NaN</td>\n",
       "      <td>NaN</td>\n",
       "      <td>NaN</td>\n",
       "      <td>NaN</td>\n",
       "      <td>NaN</td>\n",
       "      <td>NaN</td>\n",
       "      <td>NaN</td>\n",
       "      <td>NaN</td>\n",
       "      <td>NaN</td>\n",
       "    </tr>\n",
       "    <tr>\n",
       "      <th>2</th>\n",
       "      <td>NaN</td>\n",
       "      <td>NaN</td>\n",
       "      <td>NaN</td>\n",
       "      <td>NaN</td>\n",
       "      <td>NaN</td>\n",
       "      <td>DBEBDCECCBCEBBBBDBABDDBBAABCBACDBACECCBAADEBB</td>\n",
       "      <td>ABDEADAADCDABDCADAEABCDDCBAADCCBEBCEBEBDBEAED</td>\n",
       "      <td>ACEBDCABAACAEBAECEBBBAAECBBDEADCAECCCEDDABEED</td>\n",
       "      <td>CEAEACCCDABCDAACEDDBAAEBABDDEEBDAECABDBCBCADE</td>\n",
       "      <td>DBEABDABDCACDBECDDDBCAAABBACCCADEBECCCEDAEEED</td>\n",
       "      <td>ACEEABAADCDAADEABCDABCDCABCBDADEBAECABADBCDAE</td>\n",
       "      <td>DBABBAEBAAAACDACDEDAACADBADBCCEACCCEAAECBBEBCA...</td>\n",
       "      <td>BCCDEEABCBEDCEABBEBDABDDADDADECAADDCCBEBEABCC</td>\n",
       "      <td>1.0</td>\n",
       "    </tr>\n",
       "    <tr>\n",
       "      <th>3</th>\n",
       "      <td>1.0</td>\n",
       "      <td>Fortaleza</td>\n",
       "      <td>CE</td>\n",
       "      <td>2.0</td>\n",
       "      <td>1.0</td>\n",
       "      <td>DEEBEACCCEBDDBDCCCAEEDCBAAADBCBEEEDCDAAECBEEC</td>\n",
       "      <td>DDAAEEBCCDEADBCDDCBAECABEBDEBDABECECEDCDDAEED</td>\n",
       "      <td>ADBDADAEEEACAABBACADCAEBBAAEBBCDEBBDDADDCADAA</td>\n",
       "      <td>EECBAEDEEDDDBBAADEECDBBBECEAACEAEECDBEDDBCDCB</td>\n",
       "      <td>CDDDABBABDBEABDECCEEEDCEDAEBABDCCAACCCADACDBE</td>\n",
       "      <td>DBAADEADCDCABABCDDEBAEABAECABAACECDAECBDAABCD</td>\n",
       "      <td>BBBDAABAEACCEEEDEACBCACAACAACAAAECBBEDBCCADBDE...</td>\n",
       "      <td>EBDADDAEBEACBEDCECCBEABCADEBCCBCCDEBDDAABBADD</td>\n",
       "      <td>1.0</td>\n",
       "    </tr>\n",
       "    <tr>\n",
       "      <th>4</th>\n",
       "      <td>1.0</td>\n",
       "      <td>Quixadá</td>\n",
       "      <td>CE</td>\n",
       "      <td>2.0</td>\n",
       "      <td>1.0</td>\n",
       "      <td>AECCEAACDEABEEECDBAEEAAADDEABCBCEBACEEDCBEABD</td>\n",
       "      <td>CADEBCEDDEBCBAEBADDCECACADBDEBABDBDBEEDBBEADC</td>\n",
       "      <td>AABBACBCAEDABDADEDAACCAEEEECAACDCADBAEACDEAAE</td>\n",
       "      <td>CDBABEDCEEBBBDECDEBACCAABDEDCBECDECABBDBDEECC</td>\n",
       "      <td>CAAADCCCCDDDABDCACDBEEEDCEDAEECCDBEABDBABBAEB</td>\n",
       "      <td>CDAEECABAACEAADECBDAABCDCABADCDEABAABCDDEBADB</td>\n",
       "      <td>BBDABAAEBADACEEDCCDBADBDEDCCEBCACEACAACAACACBB...</td>\n",
       "      <td>DCECACCBDECBEEABEABDDAADDABBBCCBCCDDAEBDADEEB</td>\n",
       "      <td>1.0</td>\n",
       "    </tr>\n",
       "  </tbody>\n",
       "</table>\n",
       "</div>"
      ],
      "text/plain": [
       "   TP_ENSINO NO_MUNICIPIO_ESC SG_UF_ESC  TP_DEPENDENCIA_ADM_ESC  \\\n",
       "0        NaN              NaN       NaN                     NaN   \n",
       "1        NaN              NaN       NaN                     NaN   \n",
       "2        NaN              NaN       NaN                     NaN   \n",
       "3        1.0        Fortaleza        CE                     2.0   \n",
       "4        1.0          Quixadá        CE                     2.0   \n",
       "\n",
       "   TP_LOCALIZACAO_ESC                                TX_RESPOSTAS_CN  \\\n",
       "0                 NaN                                            NaN   \n",
       "1                 NaN                                            NaN   \n",
       "2                 NaN  DBEBDCECCBCEBBBBDBABDDBBAABCBACDBACECCBAADEBB   \n",
       "3                 1.0  DEEBEACCCEBDDBDCCCAEEDCBAAADBCBEEEDCDAAECBEEC   \n",
       "4                 1.0  AECCEAACDEABEEECDBAEEAAADDEABCBCEBACEEDCBEABD   \n",
       "\n",
       "                                 TX_RESPOSTAS_CH  \\\n",
       "0                                            NaN   \n",
       "1                                            NaN   \n",
       "2  ABDEADAADCDABDCADAEABCDDCBAADCCBEBCEBEBDBEAED   \n",
       "3  DDAAEEBCCDEADBCDDCBAECABEBDEBDABECECEDCDDAEED   \n",
       "4  CADEBCEDDEBCBAEBADDCECACADBDEBABDBDBEEDBBEADC   \n",
       "\n",
       "                                 TX_RESPOSTAS_LC  \\\n",
       "0                                            NaN   \n",
       "1                                            NaN   \n",
       "2  ACEBDCABAACAEBAECEBBBAAECBBDEADCAECCCEDDABEED   \n",
       "3  ADBDADAEEEACAABBACADCAEBBAAEBBCDEBBDDADDCADAA   \n",
       "4  AABBACBCAEDABDADEDAACCAEEEECAACDCADBAEACDEAAE   \n",
       "\n",
       "                                 TX_RESPOSTAS_MT  \\\n",
       "0                                            NaN   \n",
       "1                                            NaN   \n",
       "2  CEAEACCCDABCDAACEDDBAAEBABDDEEBDAECABDBCBCADE   \n",
       "3  EECBAEDEEDDDBBAADEECDBBBECEAACEAEECDBEDDBCDCB   \n",
       "4  CDBABEDCEEBBBDECDEBACCAABDEDCBECDECABBDBDEECC   \n",
       "\n",
       "                                  TX_GABARITO_CN  \\\n",
       "0                                            NaN   \n",
       "1                                            NaN   \n",
       "2  DBEABDABDCACDBECDDDBCAAABBACCCADEBECCCEDAEEED   \n",
       "3  CDDDABBABDBEABDECCEEEDCEDAEBABDCCAACCCADACDBE   \n",
       "4  CAAADCCCCDDDABDCACDBEEEDCEDAEECCDBEABDBABBAEB   \n",
       "\n",
       "                                  TX_GABARITO_CH  \\\n",
       "0                                            NaN   \n",
       "1                                            NaN   \n",
       "2  ACEEABAADCDAADEABCDABCDCABCBDADEBAECABADBCDAE   \n",
       "3  DBAADEADCDCABABCDDEBAEABAECABAACECDAECBDAABCD   \n",
       "4  CDAEECABAACEAADECBDAABCDCABADCDEABAABCDDEBADB   \n",
       "\n",
       "                                      TX_GABARITO_LC  \\\n",
       "0                                                NaN   \n",
       "1                                                NaN   \n",
       "2  DBABBAEBAAAACDACDEDAACADBADBCCEACCCEAAECBBEBCA...   \n",
       "3  BBBDAABAEACCEEEDEACBCACAACAACAAAECBBEDBCCADBDE...   \n",
       "4  BBDABAAEBADACEEDCCDBADBDEDCCEBCACEACAACAACACBB...   \n",
       "\n",
       "                                  TX_GABARITO_MT  TP_STATUS_REDACAO  \n",
       "0                                            NaN                NaN  \n",
       "1                                            NaN                NaN  \n",
       "2  BCCDEEABCBEDCEABBEBDABDDADDADECAADDCCBEBEABCC                1.0  \n",
       "3  EBDADDAEBEACBEDCECCBEABCADEBCCBCCDEBDDAABBADD                1.0  \n",
       "4  DCECACCBDECBEEABEABDDAADDABBBCCBCCDDAEBDADEEB                1.0  "
      ]
     },
     "execution_count": 18,
     "metadata": {},
     "output_type": "execute_result"
    }
   ],
   "source": [
    "# Extraindo colunas com valores nulos do tipo number e aplicando valores -1\n",
    "colunas_com_nulos_numericos = microdados_V1[colunas_com_nulos].select_dtypes(include='number').columns\n",
    "# Colunas que possuem valores nulos do tipo string, continuaram sem alteração\n",
    "microdados_V1[colunas_com_nulos].head()"
   ]
  },
  {
   "cell_type": "code",
   "execution_count": 19,
   "metadata": {},
   "outputs": [
    {
     "data": {
      "text/html": [
       "<div>\n",
       "<style scoped>\n",
       "    .dataframe tbody tr th:only-of-type {\n",
       "        vertical-align: middle;\n",
       "    }\n",
       "\n",
       "    .dataframe tbody tr th {\n",
       "        vertical-align: top;\n",
       "    }\n",
       "\n",
       "    .dataframe thead th {\n",
       "        text-align: right;\n",
       "    }\n",
       "</style>\n",
       "<table border=\"1\" class=\"dataframe\">\n",
       "  <thead>\n",
       "    <tr style=\"text-align: right;\">\n",
       "      <th></th>\n",
       "      <th>TP_ENSINO</th>\n",
       "      <th>TP_DEPENDENCIA_ADM_ESC</th>\n",
       "      <th>TP_LOCALIZACAO_ESC</th>\n",
       "      <th>TP_STATUS_REDACAO</th>\n",
       "    </tr>\n",
       "  </thead>\n",
       "  <tbody>\n",
       "    <tr>\n",
       "      <th>0</th>\n",
       "      <td>-1.0</td>\n",
       "      <td>-1.0</td>\n",
       "      <td>-1.0</td>\n",
       "      <td>-1.0</td>\n",
       "    </tr>\n",
       "    <tr>\n",
       "      <th>1</th>\n",
       "      <td>-1.0</td>\n",
       "      <td>-1.0</td>\n",
       "      <td>-1.0</td>\n",
       "      <td>-1.0</td>\n",
       "    </tr>\n",
       "    <tr>\n",
       "      <th>2</th>\n",
       "      <td>-1.0</td>\n",
       "      <td>-1.0</td>\n",
       "      <td>-1.0</td>\n",
       "      <td>1.0</td>\n",
       "    </tr>\n",
       "    <tr>\n",
       "      <th>3</th>\n",
       "      <td>1.0</td>\n",
       "      <td>2.0</td>\n",
       "      <td>1.0</td>\n",
       "      <td>1.0</td>\n",
       "    </tr>\n",
       "    <tr>\n",
       "      <th>4</th>\n",
       "      <td>1.0</td>\n",
       "      <td>2.0</td>\n",
       "      <td>1.0</td>\n",
       "      <td>1.0</td>\n",
       "    </tr>\n",
       "  </tbody>\n",
       "</table>\n",
       "</div>"
      ],
      "text/plain": [
       "   TP_ENSINO  TP_DEPENDENCIA_ADM_ESC  TP_LOCALIZACAO_ESC  TP_STATUS_REDACAO\n",
       "0       -1.0                    -1.0                -1.0               -1.0\n",
       "1       -1.0                    -1.0                -1.0               -1.0\n",
       "2       -1.0                    -1.0                -1.0                1.0\n",
       "3        1.0                     2.0                 1.0                1.0\n",
       "4        1.0                     2.0                 1.0                1.0"
      ]
     },
     "execution_count": 19,
     "metadata": {},
     "output_type": "execute_result"
    }
   ],
   "source": [
    "microdados_V1[colunas_com_nulos_numericos] = microdados_V1[colunas_com_nulos_numericos].fillna(-1)\n",
    "microdados_V1[colunas_com_nulos_numericos].head()"
   ]
  },
  {
   "cell_type": "code",
   "execution_count": 20,
   "metadata": {},
   "outputs": [
    {
     "data": {
      "text/plain": [
       "Index(['NO_MUNICIPIO_ESC', 'SG_UF_ESC', 'TX_RESPOSTAS_CN', 'TX_RESPOSTAS_CH',\n",
       "       'TX_RESPOSTAS_LC', 'TX_RESPOSTAS_MT', 'TX_GABARITO_CN',\n",
       "       'TX_GABARITO_CH', 'TX_GABARITO_LC', 'TX_GABARITO_MT'],\n",
       "      dtype='object')"
      ]
     },
     "execution_count": 20,
     "metadata": {},
     "output_type": "execute_result"
    }
   ],
   "source": [
    "# Verifica a quantidade de colunas nulas restantes\n",
    "# Tratar colunas nulas do tipo string com a string 'Desconhecido'\n",
    "colunas_com_nulos_string = microdados_V1.columns[microdados_V1.isnull().any()]\n",
    "colunas_com_nulos_string"
   ]
  },
  {
   "cell_type": "code",
   "execution_count": 21,
   "metadata": {},
   "outputs": [
    {
     "name": "stdout",
     "output_type": "stream",
     "text": [
      "  NO_MUNICIPIO_ESC     SG_UF_ESC  \\\n",
      "0     Desconhecido  Desconhecido   \n",
      "1     Desconhecido  Desconhecido   \n",
      "2     Desconhecido  Desconhecido   \n",
      "3        Fortaleza            CE   \n",
      "4          Quixadá            CE   \n",
      "\n",
      "                                 TX_RESPOSTAS_CN  \\\n",
      "0                                   Desconhecido   \n",
      "1                                   Desconhecido   \n",
      "2  DBEBDCECCBCEBBBBDBABDDBBAABCBACDBACECCBAADEBB   \n",
      "3  DEEBEACCCEBDDBDCCCAEEDCBAAADBCBEEEDCDAAECBEEC   \n",
      "4  AECCEAACDEABEEECDBAEEAAADDEABCBCEBACEEDCBEABD   \n",
      "\n",
      "                                 TX_RESPOSTAS_CH  \\\n",
      "0                                   Desconhecido   \n",
      "1                                   Desconhecido   \n",
      "2  ABDEADAADCDABDCADAEABCDDCBAADCCBEBCEBEBDBEAED   \n",
      "3  DDAAEEBCCDEADBCDDCBAECABEBDEBDABECECEDCDDAEED   \n",
      "4  CADEBCEDDEBCBAEBADDCECACADBDEBABDBDBEEDBBEADC   \n",
      "\n",
      "                                 TX_RESPOSTAS_LC  \\\n",
      "0                                   Desconhecido   \n",
      "1                                   Desconhecido   \n",
      "2  ACEBDCABAACAEBAECEBBBAAECBBDEADCAECCCEDDABEED   \n",
      "3  ADBDADAEEEACAABBACADCAEBBAAEBBCDEBBDDADDCADAA   \n",
      "4  AABBACBCAEDABDADEDAACCAEEEECAACDCADBAEACDEAAE   \n",
      "\n",
      "                                 TX_RESPOSTAS_MT  \\\n",
      "0                                   Desconhecido   \n",
      "1                                   Desconhecido   \n",
      "2  CEAEACCCDABCDAACEDDBAAEBABDDEEBDAECABDBCBCADE   \n",
      "3  EECBAEDEEDDDBBAADEECDBBBECEAACEAEECDBEDDBCDCB   \n",
      "4  CDBABEDCEEBBBDECDEBACCAABDEDCBECDECABBDBDEECC   \n",
      "\n",
      "                                  TX_GABARITO_CN  \\\n",
      "0                                   Desconhecido   \n",
      "1                                   Desconhecido   \n",
      "2  DBEABDABDCACDBECDDDBCAAABBACCCADEBECCCEDAEEED   \n",
      "3  CDDDABBABDBEABDECCEEEDCEDAEBABDCCAACCCADACDBE   \n",
      "4  CAAADCCCCDDDABDCACDBEEEDCEDAEECCDBEABDBABBAEB   \n",
      "\n",
      "                                  TX_GABARITO_CH  \\\n",
      "0                                   Desconhecido   \n",
      "1                                   Desconhecido   \n",
      "2  ACEEABAADCDAADEABCDABCDCABCBDADEBAECABADBCDAE   \n",
      "3  DBAADEADCDCABABCDDEBAEABAECABAACECDAECBDAABCD   \n",
      "4  CDAEECABAACEAADECBDAABCDCABADCDEABAABCDDEBADB   \n",
      "\n",
      "                                      TX_GABARITO_LC  \\\n",
      "0                                       Desconhecido   \n",
      "1                                       Desconhecido   \n",
      "2  DBABBAEBAAAACDACDEDAACADBADBCCEACCCEAAECBBEBCA...   \n",
      "3  BBBDAABAEACCEEEDEACBCACAACAACAAAECBBEDBCCADBDE...   \n",
      "4  BBDABAAEBADACEEDCCDBADBDEDCCEBCACEACAACAACACBB...   \n",
      "\n",
      "                                  TX_GABARITO_MT  \n",
      "0                                   Desconhecido  \n",
      "1                                   Desconhecido  \n",
      "2  BCCDEEABCBEDCEABBEBDABDDADDADECAADDCCBEBEABCC  \n",
      "3  EBDADDAEBEACBEDCECCBEABCADEBCCBCCDEBDDAABBADD  \n",
      "4  DCECACCBDECBEEABEABDDAADDABBBCCBCCDDAEBDADEEB  \n"
     ]
    }
   ],
   "source": [
    "microdados_V1[colunas_com_nulos_string] = microdados_V1[colunas_com_nulos_string].fillna('Desconhecido')\n",
    "print(microdados_V1[colunas_com_nulos_string].head())"
   ]
  },
  {
   "cell_type": "code",
   "execution_count": 22,
   "metadata": {},
   "outputs": [
    {
     "data": {
      "text/plain": [
       "Index([], dtype='object')"
      ]
     },
     "execution_count": 22,
     "metadata": {},
     "output_type": "execute_result"
    }
   ],
   "source": [
    "microdados_V1.columns[microdados_V1.isnull().any()]"
   ]
  },
  {
   "cell_type": "code",
   "execution_count": 23,
   "metadata": {},
   "outputs": [],
   "source": [
    "#==================== OTIMIZAÇÂO DE DTYPES ====================#"
   ]
  },
  {
   "cell_type": "code",
   "execution_count": 24,
   "metadata": {},
   "outputs": [
    {
     "data": {
      "text/plain": [
       "0"
      ]
     },
     "execution_count": 24,
     "metadata": {},
     "output_type": "execute_result"
    }
   ],
   "source": [
    "microdados_V2 = microdados_V1.copy()\n",
    "del microdados_V1\n",
    "gc.collect()"
   ]
  },
  {
   "cell_type": "code",
   "execution_count": 25,
   "metadata": {},
   "outputs": [
    {
     "name": "stdout",
     "output_type": "stream",
     "text": [
      "<class 'pandas.core.frame.DataFrame'>\n",
      "RangeIndex: 3933955 entries, 0 to 3933954\n",
      "Data columns (total 63 columns):\n",
      " #   Column                  Dtype  \n",
      "---  ------                  -----  \n",
      " 0   TP_FAIXA_ETARIA         int64  \n",
      " 1   TP_SEXO                 object \n",
      " 2   TP_ESTADO_CIVIL         int64  \n",
      " 3   TP_COR_RACA             int64  \n",
      " 4   TP_NACIONALIDADE        int64  \n",
      " 5   TP_ST_CONCLUSAO         int64  \n",
      " 6   TP_ANO_CONCLUIU         int64  \n",
      " 7   TP_ENSINO               float64\n",
      " 8   NO_MUNICIPIO_ESC        object \n",
      " 9   SG_UF_ESC               object \n",
      " 10  TP_DEPENDENCIA_ADM_ESC  float64\n",
      " 11  TP_LOCALIZACAO_ESC      float64\n",
      " 12  NO_MUNICIPIO_PROVA      object \n",
      " 13  SG_UF_PROVA             object \n",
      " 14  TP_PRESENCA_CN          int64  \n",
      " 15  TP_PRESENCA_CH          int64  \n",
      " 16  TP_PRESENCA_LC          int64  \n",
      " 17  TP_PRESENCA_MT          int64  \n",
      " 18  NU_NOTA_CN              float64\n",
      " 19  NU_NOTA_CH              float64\n",
      " 20  NU_NOTA_LC              float64\n",
      " 21  NU_NOTA_MT              float64\n",
      " 22  TX_RESPOSTAS_CN         object \n",
      " 23  TX_RESPOSTAS_CH         object \n",
      " 24  TX_RESPOSTAS_LC         object \n",
      " 25  TX_RESPOSTAS_MT         object \n",
      " 26  TP_LINGUA               int64  \n",
      " 27  TX_GABARITO_CN          object \n",
      " 28  TX_GABARITO_CH          object \n",
      " 29  TX_GABARITO_LC          object \n",
      " 30  TX_GABARITO_MT          object \n",
      " 31  TP_STATUS_REDACAO       float64\n",
      " 32  NU_NOTA_COMP1           float64\n",
      " 33  NU_NOTA_COMP2           float64\n",
      " 34  NU_NOTA_COMP3           float64\n",
      " 35  NU_NOTA_COMP4           float64\n",
      " 36  NU_NOTA_COMP5           float64\n",
      " 37  NU_NOTA_REDACAO         float64\n",
      " 38  Q001                    object \n",
      " 39  Q002                    object \n",
      " 40  Q003                    object \n",
      " 41  Q004                    object \n",
      " 42  Q005                    int64  \n",
      " 43  Q006                    object \n",
      " 44  Q007                    object \n",
      " 45  Q008                    object \n",
      " 46  Q009                    object \n",
      " 47  Q010                    object \n",
      " 48  Q011                    object \n",
      " 49  Q012                    object \n",
      " 50  Q013                    object \n",
      " 51  Q014                    object \n",
      " 52  Q015                    object \n",
      " 53  Q016                    object \n",
      " 54  Q017                    object \n",
      " 55  Q018                    object \n",
      " 56  Q019                    object \n",
      " 57  Q020                    object \n",
      " 58  Q021                    object \n",
      " 59  Q022                    object \n",
      " 60  Q023                    object \n",
      " 61  Q024                    object \n",
      " 62  Q025                    object \n",
      "dtypes: float64(14), int64(12), object(37)\n",
      "memory usage: 1.8+ GB\n"
     ]
    }
   ],
   "source": [
    "microdados_V2.info()"
   ]
  },
  {
   "cell_type": "code",
   "execution_count": 26,
   "metadata": {},
   "outputs": [],
   "source": [
    "#Selecionar as colunas que podem ser convertidas para category\n",
    "colunas_categoria = [\n",
    "    \"TP_FAIXA_ETARIA\", \"TP_SEXO\", \"TP_ESTADO_CIVIL\", \"TP_COR_RACA\", \"TP_NACIONALIDADE\",\n",
    "    \"TP_ST_CONCLUSAO\", \"TP_ANO_CONCLUIU\", \"TP_DEPENDENCIA_ADM_ESC\", \"TP_ENSINO\", \"NO_MUNICIPIO_ESC\",\n",
    "    \"SG_UF_ESC\", \"TP_LOCALIZACAO_ESC\", \"NO_MUNICIPIO_PROVA\", \"SG_UF_PROVA\", \"TP_PRESENCA_CN\",\n",
    "    \"TP_PRESENCA_CH\", \"TP_PRESENCA_LC\", \"TP_PRESENCA_MT\", \"TP_LINGUA\", \"TP_STATUS_REDACAO\",\n",
    "    \"Q001\", \"Q002\", \"Q003\", \"Q004\", \"Q005\", \"Q006\", \"Q007\", \"Q008\", \"Q009\", \"Q010\", \"Q011\", \"Q012\",\n",
    "    \"Q013\", \"Q014\", \"Q015\", \"Q016\", \"Q017\", \"Q018\", \"Q019\", \"Q020\", \"Q021\", \"Q022\", \"Q023\",\n",
    "    \"Q024\", \"Q025\"\n",
    "]\n",
    "microdados_V2[colunas_categoria] = microdados_V2[colunas_categoria].astype('category')"
   ]
  },
  {
   "cell_type": "code",
   "execution_count": 27,
   "metadata": {},
   "outputs": [
    {
     "name": "stdout",
     "output_type": "stream",
     "text": [
      "Colunas do tipo int64:\n",
      "Index([], dtype='object')\n",
      "\n",
      "Colunas do tipo float64:\n",
      "Index(['NU_NOTA_CN', 'NU_NOTA_CH', 'NU_NOTA_LC', 'NU_NOTA_MT', 'NU_NOTA_COMP1',\n",
      "       'NU_NOTA_COMP2', 'NU_NOTA_COMP3', 'NU_NOTA_COMP4', 'NU_NOTA_COMP5',\n",
      "       'NU_NOTA_REDACAO'],\n",
      "      dtype='object')\n"
     ]
    }
   ],
   "source": [
    "# Separar colunas por tipo de dado\n",
    "print('Colunas do tipo int64:')\n",
    "colunas_int64 = microdados_V2.select_dtypes(include='int64').columns\n",
    "print(colunas_int64)\n",
    "\n",
    "print('\\nColunas do tipo float64:')\n",
    "colunas_float64 = microdados_V2.select_dtypes(include='float64').columns\n",
    "print(colunas_float64)"
   ]
  },
  {
   "cell_type": "code",
   "execution_count": 28,
   "metadata": {},
   "outputs": [
    {
     "name": "stdout",
     "output_type": "stream",
     "text": [
      "Colunas: NU_NOTA_CN - Possui apenas valores inteiros: False\n",
      "Colunas: NU_NOTA_CH - Possui apenas valores inteiros: False\n",
      "Colunas: NU_NOTA_LC - Possui apenas valores inteiros: False\n",
      "Colunas: NU_NOTA_MT - Possui apenas valores inteiros: False\n",
      "Colunas: NU_NOTA_COMP1 - Possui apenas valores inteiros: True\n",
      "Colunas: NU_NOTA_COMP2 - Possui apenas valores inteiros: True\n",
      "Colunas: NU_NOTA_COMP3 - Possui apenas valores inteiros: True\n",
      "Colunas: NU_NOTA_COMP4 - Possui apenas valores inteiros: True\n",
      "Colunas: NU_NOTA_COMP5 - Possui apenas valores inteiros: True\n",
      "Colunas: NU_NOTA_REDACAO - Possui apenas valores inteiros: True\n"
     ]
    }
   ],
   "source": [
    "\"\"\"\n",
    "Verificar se é possivel converter os valores do tipo float64 para int64\n",
    "Verificar se todas as colunas do tipo float64 possuem valores inteiros\n",
    "\"\"\"\n",
    "\n",
    "resultados = {}\n",
    "for coluna in colunas_float64:\n",
    "    resultados[coluna] = microdados_V2[coluna].apply(lambda x: x.is_integer()).all()\n",
    "\n",
    "for coluna, resultado in resultados.items():\n",
    "    print(f'Colunas: {coluna} - Possui apenas valores inteiros: {resultado}')"
   ]
  },
  {
   "cell_type": "code",
   "execution_count": 29,
   "metadata": {},
   "outputs": [
    {
     "name": "stdout",
     "output_type": "stream",
     "text": [
      "Valor máximo encontrado: 958.6\n",
      "<class 'pandas.core.frame.DataFrame'>\n",
      "RangeIndex: 3933955 entries, 0 to 3933954\n",
      "Data columns (total 63 columns):\n",
      " #   Column                  Dtype   \n",
      "---  ------                  -----   \n",
      " 0   TP_FAIXA_ETARIA         category\n",
      " 1   TP_SEXO                 category\n",
      " 2   TP_ESTADO_CIVIL         category\n",
      " 3   TP_COR_RACA             category\n",
      " 4   TP_NACIONALIDADE        category\n",
      " 5   TP_ST_CONCLUSAO         category\n",
      " 6   TP_ANO_CONCLUIU         category\n",
      " 7   TP_ENSINO               category\n",
      " 8   NO_MUNICIPIO_ESC        category\n",
      " 9   SG_UF_ESC               category\n",
      " 10  TP_DEPENDENCIA_ADM_ESC  category\n",
      " 11  TP_LOCALIZACAO_ESC      category\n",
      " 12  NO_MUNICIPIO_PROVA      category\n",
      " 13  SG_UF_PROVA             category\n",
      " 14  TP_PRESENCA_CN          category\n",
      " 15  TP_PRESENCA_CH          category\n",
      " 16  TP_PRESENCA_LC          category\n",
      " 17  TP_PRESENCA_MT          category\n",
      " 18  NU_NOTA_CN              float16 \n",
      " 19  NU_NOTA_CH              float16 \n",
      " 20  NU_NOTA_LC              float16 \n",
      " 21  NU_NOTA_MT              float16 \n",
      " 22  TX_RESPOSTAS_CN         object  \n",
      " 23  TX_RESPOSTAS_CH         object  \n",
      " 24  TX_RESPOSTAS_LC         object  \n",
      " 25  TX_RESPOSTAS_MT         object  \n",
      " 26  TP_LINGUA               category\n",
      " 27  TX_GABARITO_CN          object  \n",
      " 28  TX_GABARITO_CH          object  \n",
      " 29  TX_GABARITO_LC          object  \n",
      " 30  TX_GABARITO_MT          object  \n",
      " 31  TP_STATUS_REDACAO       category\n",
      " 32  NU_NOTA_COMP1           float64 \n",
      " 33  NU_NOTA_COMP2           float64 \n",
      " 34  NU_NOTA_COMP3           float64 \n",
      " 35  NU_NOTA_COMP4           float64 \n",
      " 36  NU_NOTA_COMP5           float64 \n",
      " 37  NU_NOTA_REDACAO         float64 \n",
      " 38  Q001                    category\n",
      " 39  Q002                    category\n",
      " 40  Q003                    category\n",
      " 41  Q004                    category\n",
      " 42  Q005                    category\n",
      " 43  Q006                    category\n",
      " 44  Q007                    category\n",
      " 45  Q008                    category\n",
      " 46  Q009                    category\n",
      " 47  Q010                    category\n",
      " 48  Q011                    category\n",
      " 49  Q012                    category\n",
      " 50  Q013                    category\n",
      " 51  Q014                    category\n",
      " 52  Q015                    category\n",
      " 53  Q016                    category\n",
      " 54  Q017                    category\n",
      " 55  Q018                    category\n",
      " 56  Q019                    category\n",
      " 57  Q020                    category\n",
      " 58  Q021                    category\n",
      " 59  Q022                    category\n",
      " 60  Q023                    category\n",
      " 61  Q024                    category\n",
      " 62  Q025                    category\n",
      "dtypes: category(45), float16(4), float64(6), object(8)\n",
      "memory usage: 626.8+ MB\n"
     ]
    }
   ],
   "source": [
    "\"\"\"\n",
    "Selecionar colunas que possuem apenas valores float\n",
    "Analizar valor maximo para verificar se é possivel converter para float16\n",
    "Converter colunas float64 para float16\n",
    "\"\"\"\n",
    "colunas_float16 = [\n",
    "    'NU_NOTA_CN', 'NU_NOTA_CH', 'NU_NOTA_LC', 'NU_NOTA_MT'\n",
    "]\n",
    "\n",
    "print(f'Valor máximo encontrado: {microdados_V2[colunas_float16].max().max()}')\n",
    "microdados_V2[colunas_float16] = microdados_V2[colunas_float16].astype('float16')\n",
    "microdados_V2.info()"
   ]
  },
  {
   "cell_type": "code",
   "execution_count": 30,
   "metadata": {},
   "outputs": [
    {
     "name": "stdout",
     "output_type": "stream",
     "text": [
      "<class 'pandas.core.frame.DataFrame'>\n",
      "RangeIndex: 3933955 entries, 0 to 3933954\n",
      "Data columns (total 63 columns):\n",
      " #   Column                  Dtype   \n",
      "---  ------                  -----   \n",
      " 0   TP_FAIXA_ETARIA         category\n",
      " 1   TP_SEXO                 category\n",
      " 2   TP_ESTADO_CIVIL         category\n",
      " 3   TP_COR_RACA             category\n",
      " 4   TP_NACIONALIDADE        category\n",
      " 5   TP_ST_CONCLUSAO         category\n",
      " 6   TP_ANO_CONCLUIU         category\n",
      " 7   TP_ENSINO               category\n",
      " 8   NO_MUNICIPIO_ESC        category\n",
      " 9   SG_UF_ESC               category\n",
      " 10  TP_DEPENDENCIA_ADM_ESC  category\n",
      " 11  TP_LOCALIZACAO_ESC      category\n",
      " 12  NO_MUNICIPIO_PROVA      category\n",
      " 13  SG_UF_PROVA             category\n",
      " 14  TP_PRESENCA_CN          category\n",
      " 15  TP_PRESENCA_CH          category\n",
      " 16  TP_PRESENCA_LC          category\n",
      " 17  TP_PRESENCA_MT          category\n",
      " 18  NU_NOTA_CN              float16 \n",
      " 19  NU_NOTA_CH              float16 \n",
      " 20  NU_NOTA_LC              float16 \n",
      " 21  NU_NOTA_MT              float16 \n",
      " 22  TX_RESPOSTAS_CN         object  \n",
      " 23  TX_RESPOSTAS_CH         object  \n",
      " 24  TX_RESPOSTAS_LC         object  \n",
      " 25  TX_RESPOSTAS_MT         object  \n",
      " 26  TP_LINGUA               category\n",
      " 27  TX_GABARITO_CN          object  \n",
      " 28  TX_GABARITO_CH          object  \n",
      " 29  TX_GABARITO_LC          object  \n",
      " 30  TX_GABARITO_MT          object  \n",
      " 31  TP_STATUS_REDACAO       category\n",
      " 32  NU_NOTA_COMP1           int64   \n",
      " 33  NU_NOTA_COMP2           int64   \n",
      " 34  NU_NOTA_COMP3           int64   \n",
      " 35  NU_NOTA_COMP4           int64   \n",
      " 36  NU_NOTA_COMP5           int64   \n",
      " 37  NU_NOTA_REDACAO         int64   \n",
      " 38  Q001                    category\n",
      " 39  Q002                    category\n",
      " 40  Q003                    category\n",
      " 41  Q004                    category\n",
      " 42  Q005                    category\n",
      " 43  Q006                    category\n",
      " 44  Q007                    category\n",
      " 45  Q008                    category\n",
      " 46  Q009                    category\n",
      " 47  Q010                    category\n",
      " 48  Q011                    category\n",
      " 49  Q012                    category\n",
      " 50  Q013                    category\n",
      " 51  Q014                    category\n",
      " 52  Q015                    category\n",
      " 53  Q016                    category\n",
      " 54  Q017                    category\n",
      " 55  Q018                    category\n",
      " 56  Q019                    category\n",
      " 57  Q020                    category\n",
      " 58  Q021                    category\n",
      " 59  Q022                    category\n",
      " 60  Q023                    category\n",
      " 61  Q024                    category\n",
      " 62  Q025                    category\n",
      "dtypes: category(45), float16(4), int64(6), object(8)\n",
      "memory usage: 626.8+ MB\n"
     ]
    }
   ],
   "source": [
    "\"\"\"\n",
    "Restante das colunas podem ser convertidas para int64 inicialmente e depois tratada conforme a necessidade\n",
    "\"\"\"\n",
    "\n",
    "colunas_float64=microdados_V2.select_dtypes(include='float64').columns\n",
    "microdados_V2[colunas_float64] = microdados_V2[colunas_float64].astype('int64')\n",
    "microdados_V2.info()"
   ]
  },
  {
   "cell_type": "code",
   "execution_count": 31,
   "metadata": {},
   "outputs": [
    {
     "data": {
      "text/plain": [
       "Index(['NU_NOTA_COMP1', 'NU_NOTA_COMP2', 'NU_NOTA_COMP3', 'NU_NOTA_COMP4',\n",
       "       'NU_NOTA_COMP5', 'NU_NOTA_REDACAO'],\n",
       "      dtype='object')"
      ]
     },
     "execution_count": 31,
     "metadata": {},
     "output_type": "execute_result"
    }
   ],
   "source": [
    "\"\"\"\n",
    "Seleciona as colunas que possuem valores int64\n",
    "\"\"\"\n",
    "colunas_int64 = microdados_V2.select_dtypes(include='int64').columns\n",
    "colunas_int64"
   ]
  },
  {
   "cell_type": "code",
   "execution_count": 32,
   "metadata": {},
   "outputs": [
    {
     "name": "stdout",
     "output_type": "stream",
     "text": [
      "<class 'pandas.core.frame.DataFrame'>\n",
      "RangeIndex: 3933955 entries, 0 to 3933954\n",
      "Data columns (total 63 columns):\n",
      " #   Column                  Dtype   \n",
      "---  ------                  -----   \n",
      " 0   TP_FAIXA_ETARIA         category\n",
      " 1   TP_SEXO                 category\n",
      " 2   TP_ESTADO_CIVIL         category\n",
      " 3   TP_COR_RACA             category\n",
      " 4   TP_NACIONALIDADE        category\n",
      " 5   TP_ST_CONCLUSAO         category\n",
      " 6   TP_ANO_CONCLUIU         category\n",
      " 7   TP_ENSINO               category\n",
      " 8   NO_MUNICIPIO_ESC        category\n",
      " 9   SG_UF_ESC               category\n",
      " 10  TP_DEPENDENCIA_ADM_ESC  category\n",
      " 11  TP_LOCALIZACAO_ESC      category\n",
      " 12  NO_MUNICIPIO_PROVA      category\n",
      " 13  SG_UF_PROVA             category\n",
      " 14  TP_PRESENCA_CN          category\n",
      " 15  TP_PRESENCA_CH          category\n",
      " 16  TP_PRESENCA_LC          category\n",
      " 17  TP_PRESENCA_MT          category\n",
      " 18  NU_NOTA_CN              float16 \n",
      " 19  NU_NOTA_CH              float16 \n",
      " 20  NU_NOTA_LC              float16 \n",
      " 21  NU_NOTA_MT              float16 \n",
      " 22  TX_RESPOSTAS_CN         object  \n",
      " 23  TX_RESPOSTAS_CH         object  \n",
      " 24  TX_RESPOSTAS_LC         object  \n",
      " 25  TX_RESPOSTAS_MT         object  \n",
      " 26  TP_LINGUA               category\n",
      " 27  TX_GABARITO_CN          object  \n",
      " 28  TX_GABARITO_CH          object  \n",
      " 29  TX_GABARITO_LC          object  \n",
      " 30  TX_GABARITO_MT          object  \n",
      " 31  TP_STATUS_REDACAO       category\n",
      " 32  NU_NOTA_COMP1           int16   \n",
      " 33  NU_NOTA_COMP2           int16   \n",
      " 34  NU_NOTA_COMP3           int16   \n",
      " 35  NU_NOTA_COMP4           int16   \n",
      " 36  NU_NOTA_COMP5           int16   \n",
      " 37  NU_NOTA_REDACAO         int16   \n",
      " 38  Q001                    category\n",
      " 39  Q002                    category\n",
      " 40  Q003                    category\n",
      " 41  Q004                    category\n",
      " 42  Q005                    category\n",
      " 43  Q006                    category\n",
      " 44  Q007                    category\n",
      " 45  Q008                    category\n",
      " 46  Q009                    category\n",
      " 47  Q010                    category\n",
      " 48  Q011                    category\n",
      " 49  Q012                    category\n",
      " 50  Q013                    category\n",
      " 51  Q014                    category\n",
      " 52  Q015                    category\n",
      " 53  Q016                    category\n",
      " 54  Q017                    category\n",
      " 55  Q018                    category\n",
      " 56  Q019                    category\n",
      " 57  Q020                    category\n",
      " 58  Q021                    category\n",
      " 59  Q022                    category\n",
      " 60  Q023                    category\n",
      " 61  Q024                    category\n",
      " 62  Q025                    category\n",
      "dtypes: category(45), float16(4), int16(6), object(8)\n",
      "memory usage: 491.7+ MB\n"
     ]
    }
   ],
   "source": [
    "\"\"\"\n",
    "Converter colunas do tipo string seu respectivo tipo de acordo com seu tamanho \n",
    "\"\"\"\n",
    "colunas_int64 = microdados_V2.select_dtypes(include='int64').columns\n",
    "\n",
    "for col in colunas_int64:\n",
    "  if microdados_V2[col].max() <= 127:\n",
    "    microdados_V2[col] = microdados_V2[col].astype('int8')\n",
    "  elif microdados_V2[col].max() <= 32767:\n",
    "    microdados_V2[col] = microdados_V2[col].astype('int16')\n",
    "  elif microdados_V2[col].max() <= 2147483647:\n",
    "    microdados_V2[col] = microdados_V2[col].astype('int32')\n",
    "  else:\n",
    "    microdados_V2[col] = microdados_V2[col].astype('int64')\n",
    "\n",
    "microdados_V2.info()"
   ]
  },
  {
   "cell_type": "code",
   "execution_count": 33,
   "metadata": {},
   "outputs": [
    {
     "name": "stdout",
     "output_type": "stream",
     "text": [
      "Index(['TX_RESPOSTAS_CN', 'TX_RESPOSTAS_CH', 'TX_RESPOSTAS_LC',\n",
      "       'TX_RESPOSTAS_MT', 'TX_GABARITO_CN', 'TX_GABARITO_CH', 'TX_GABARITO_LC',\n",
      "       'TX_GABARITO_MT'],\n",
      "      dtype='object')\n"
     ]
    }
   ],
   "source": [
    "# Extrair colunas do tipo object\n",
    "colunas_object =  microdados_V2.select_dtypes(include=['object']).columns\n",
    "print(colunas_object)"
   ]
  },
  {
   "cell_type": "code",
   "execution_count": 34,
   "metadata": {},
   "outputs": [],
   "source": [
    "# # Analisar quais colunas tem a possibilidade de serem convertidas para categoria\n",
    "\n",
    "# resultados = {}\n",
    "\n",
    "# for col in colunas_object:\n",
    "#     # Verificar se a quantidade de valores unicos é menor que 50% do total de linhas\n",
    "#     if microdados_V2[col].nunique()/microdados_V2[col].shape[0] < 0.01:\n",
    "#         resultados[col] = True\n",
    "#     else:\n",
    "#         resultados[col] = False\n",
    "\n",
    "# for col, resultado in resultados.items():\n",
    "#     print(f'Coluna: {col} - Pode ser convertida para categoria: {resultado}')\n",
    "\n"
   ]
  },
  {
   "cell_type": "code",
   "execution_count": 35,
   "metadata": {},
   "outputs": [
    {
     "data": {
      "text/plain": [
       "Index(['TX_RESPOSTAS_CN', 'TX_RESPOSTAS_CH', 'TX_RESPOSTAS_LC',\n",
       "       'TX_RESPOSTAS_MT', 'TX_GABARITO_CN', 'TX_GABARITO_CH', 'TX_GABARITO_LC',\n",
       "       'TX_GABARITO_MT'],\n",
       "      dtype='object')"
      ]
     },
     "execution_count": 35,
     "metadata": {},
     "output_type": "execute_result"
    }
   ],
   "source": [
    "colunas_object = microdados_V2.select_dtypes(include=['object']).columns\n",
    "colunas_object"
   ]
  },
  {
   "cell_type": "code",
   "execution_count": 36,
   "metadata": {},
   "outputs": [
    {
     "name": "stdout",
     "output_type": "stream",
     "text": [
      "<class 'pandas.core.frame.DataFrame'>\n",
      "RangeIndex: 3933955 entries, 0 to 3933954\n",
      "Data columns (total 63 columns):\n",
      " #   Column                  Dtype   \n",
      "---  ------                  -----   \n",
      " 0   TP_FAIXA_ETARIA         category\n",
      " 1   TP_SEXO                 category\n",
      " 2   TP_ESTADO_CIVIL         category\n",
      " 3   TP_COR_RACA             category\n",
      " 4   TP_NACIONALIDADE        category\n",
      " 5   TP_ST_CONCLUSAO         category\n",
      " 6   TP_ANO_CONCLUIU         category\n",
      " 7   TP_ENSINO               category\n",
      " 8   NO_MUNICIPIO_ESC        category\n",
      " 9   SG_UF_ESC               category\n",
      " 10  TP_DEPENDENCIA_ADM_ESC  category\n",
      " 11  TP_LOCALIZACAO_ESC      category\n",
      " 12  NO_MUNICIPIO_PROVA      category\n",
      " 13  SG_UF_PROVA             category\n",
      " 14  TP_PRESENCA_CN          category\n",
      " 15  TP_PRESENCA_CH          category\n",
      " 16  TP_PRESENCA_LC          category\n",
      " 17  TP_PRESENCA_MT          category\n",
      " 18  NU_NOTA_CN              float16 \n",
      " 19  NU_NOTA_CH              float16 \n",
      " 20  NU_NOTA_LC              float16 \n",
      " 21  NU_NOTA_MT              float16 \n",
      " 22  TX_RESPOSTAS_CN         string  \n",
      " 23  TX_RESPOSTAS_CH         string  \n",
      " 24  TX_RESPOSTAS_LC         string  \n",
      " 25  TX_RESPOSTAS_MT         string  \n",
      " 26  TP_LINGUA               category\n",
      " 27  TX_GABARITO_CN          string  \n",
      " 28  TX_GABARITO_CH          string  \n",
      " 29  TX_GABARITO_LC          string  \n",
      " 30  TX_GABARITO_MT          string  \n",
      " 31  TP_STATUS_REDACAO       category\n",
      " 32  NU_NOTA_COMP1           int16   \n",
      " 33  NU_NOTA_COMP2           int16   \n",
      " 34  NU_NOTA_COMP3           int16   \n",
      " 35  NU_NOTA_COMP4           int16   \n",
      " 36  NU_NOTA_COMP5           int16   \n",
      " 37  NU_NOTA_REDACAO         int16   \n",
      " 38  Q001                    category\n",
      " 39  Q002                    category\n",
      " 40  Q003                    category\n",
      " 41  Q004                    category\n",
      " 42  Q005                    category\n",
      " 43  Q006                    category\n",
      " 44  Q007                    category\n",
      " 45  Q008                    category\n",
      " 46  Q009                    category\n",
      " 47  Q010                    category\n",
      " 48  Q011                    category\n",
      " 49  Q012                    category\n",
      " 50  Q013                    category\n",
      " 51  Q014                    category\n",
      " 52  Q015                    category\n",
      " 53  Q016                    category\n",
      " 54  Q017                    category\n",
      " 55  Q018                    category\n",
      " 56  Q019                    category\n",
      " 57  Q020                    category\n",
      " 58  Q021                    category\n",
      " 59  Q022                    category\n",
      " 60  Q023                    category\n",
      " 61  Q024                    category\n",
      " 62  Q025                    category\n",
      "dtypes: category(45), float16(4), int16(6), string(8)\n",
      "memory usage: 491.7 MB\n"
     ]
    }
   ],
   "source": [
    "# Converter colunas restantes do tipo object para string\n",
    "colunas_object = microdados_V2.select_dtypes(include=['object']).columns\n",
    "microdados_V2[colunas_object] = microdados_V2[colunas_object].astype('string')\n",
    "microdados_V2.info()"
   ]
  },
  {
   "cell_type": "code",
   "execution_count": 37,
   "metadata": {},
   "outputs": [],
   "source": [
    "#==================== CRIAÇÃO DE NOVAS COLUNAS ====================#"
   ]
  },
  {
   "cell_type": "code",
   "execution_count": 38,
   "metadata": {},
   "outputs": [
    {
     "data": {
      "text/plain": [
       "0"
      ]
     },
     "execution_count": 38,
     "metadata": {},
     "output_type": "execute_result"
    }
   ],
   "source": [
    "microdados_V3 = microdados_V2.copy()\n",
    "del microdados_V2\n",
    "gc.collect()"
   ]
  },
  {
   "cell_type": "code",
   "execution_count": 39,
   "metadata": {},
   "outputs": [],
   "source": [
    "\"\"\" \n",
    "Criação de uma nova colunas para identificar se o candidato esteve presente em todos os dias de prova\n",
    "Extrair colunas relacionadas a presença do candidato e somar o valor de cada coluna\n",
    "Onde será preenchido com 1 se o candidato esteve presente em todos os dias de prova e 0 caso contrário\n",
    "Transformar o tipo de dado para category\n",
    "\"\"\"\n",
    "# Definindo as condições para cada categoria de presença geral\n",
    "condicao_presenca_completa = (\n",
    "    (microdados_V3['TP_PRESENCA_CN'] == 1) & \n",
    "    (microdados_V3['TP_PRESENCA_CH'] == 1) & \n",
    "    (microdados_V3['TP_PRESENCA_LC'] == 1) & \n",
    "    (microdados_V3['TP_PRESENCA_MT'] == 1)\n",
    ")\n",
    "\n",
    "condicao_presenca_primeiro_dia = (\n",
    "    (microdados_V3['TP_PRESENCA_LC'] == 1) & \n",
    "    (microdados_V3['TP_PRESENCA_CH'] == 1) & \n",
    "    ((microdados_V3['TP_PRESENCA_MT'] != 1) | (microdados_V3['TP_PRESENCA_CN'] != 1))\n",
    ")\n",
    "\n",
    "condicao_presenca_segundo_dia = (\n",
    "    (microdados_V3['TP_PRESENCA_MT'] == 1) & \n",
    "    (microdados_V3['TP_PRESENCA_CN'] == 1) & \n",
    "    ((microdados_V3['TP_PRESENCA_LC'] != 1) | (microdados_V3['TP_PRESENCA_CH'] != 1))\n",
    ")\n",
    "\n",
    "# Criando a coluna com valores padrão (0)\n",
    "microdados_V3['TP_PRESENCA_GERAL'] = 0\n",
    "\n",
    "# Aplicando as condições na ordem correta\n",
    "microdados_V3.loc[condicao_presenca_segundo_dia, 'TP_PRESENCA_GERAL'] = 3\n",
    "microdados_V3.loc[condicao_presenca_primeiro_dia, 'TP_PRESENCA_GERAL'] = 2\n",
    "microdados_V3.loc[condicao_presenca_completa, 'TP_PRESENCA_GERAL'] = 1\n",
    "\n",
    "# Convertendo para category\n",
    "microdados_V3['TP_PRESENCA_GERAL'] = microdados_V3['TP_PRESENCA_GERAL'].astype('category')"
   ]
  },
  {
   "cell_type": "code",
   "execution_count": 40,
   "metadata": {},
   "outputs": [
    {
     "data": {
      "text/plain": [
       "[0, 1, 2]\n",
       "Categories (3, int64): [0, 1, 2]"
      ]
     },
     "execution_count": 40,
     "metadata": {},
     "output_type": "execute_result"
    }
   ],
   "source": [
    "microdados_V3['TP_PRESENCA_MT'].unique()"
   ]
  },
  {
   "cell_type": "code",
   "execution_count": 41,
   "metadata": {},
   "outputs": [
    {
     "name": "stdout",
     "output_type": "stream",
     "text": [
      "Distribuição de TP_PRESENCA_GERAL:\n",
      "TP_PRESENCA_GERAL\n",
      "1    2678264\n",
      "0    1097149\n",
      "2     144379\n",
      "3      14163\n",
      "Name: count, dtype: int64\n",
      "\n",
      "Exemplos da categoria 0:\n",
      "        TP_PRESENCA_CN TP_PRESENCA_CH TP_PRESENCA_LC TP_PRESENCA_MT  \\\n",
      "975193               0              0              0              0   \n",
      "3002053              0              0              0              0   \n",
      "899563               0              0              0              0   \n",
      "\n",
      "        TP_PRESENCA_GERAL  \n",
      "975193                  0  \n",
      "3002053                 0  \n",
      "899563                  0  \n",
      "\n",
      "Exemplos da categoria 1:\n",
      "        TP_PRESENCA_CN TP_PRESENCA_CH TP_PRESENCA_LC TP_PRESENCA_MT  \\\n",
      "2282850              1              1              1              1   \n",
      "2587955              1              1              1              1   \n",
      "1451943              1              1              1              1   \n",
      "\n",
      "        TP_PRESENCA_GERAL  \n",
      "2282850                 1  \n",
      "2587955                 1  \n",
      "1451943                 1  \n",
      "\n",
      "Exemplos da categoria 2:\n",
      "        TP_PRESENCA_CN TP_PRESENCA_CH TP_PRESENCA_LC TP_PRESENCA_MT  \\\n",
      "1774283              0              1              1              0   \n",
      "3058074              0              1              1              0   \n",
      "3729216              0              1              1              0   \n",
      "\n",
      "        TP_PRESENCA_GERAL  \n",
      "1774283                 2  \n",
      "3058074                 2  \n",
      "3729216                 2  \n",
      "\n",
      "Exemplos da categoria 3:\n",
      "        TP_PRESENCA_CN TP_PRESENCA_CH TP_PRESENCA_LC TP_PRESENCA_MT  \\\n",
      "3273249              1              0              0              1   \n",
      "1517418              1              0              0              1   \n",
      "665014               1              0              0              1   \n",
      "\n",
      "        TP_PRESENCA_GERAL  \n",
      "3273249                 3  \n",
      "1517418                 3  \n",
      "665014                  3  \n"
     ]
    }
   ],
   "source": [
    "# Verificação da distribuição de valores\n",
    "print(\"Distribuição de TP_PRESENCA_GERAL:\")\n",
    "print(microdados_V3['TP_PRESENCA_GERAL'].value_counts())\n",
    "\n",
    "# Verificação com amostra de dados\n",
    "verificacao = pd.DataFrame({\n",
    "    'TP_PRESENCA_CN': microdados_V3['TP_PRESENCA_CN'],\n",
    "    'TP_PRESENCA_CH': microdados_V3['TP_PRESENCA_CH'],\n",
    "    'TP_PRESENCA_LC': microdados_V3['TP_PRESENCA_LC'],\n",
    "    'TP_PRESENCA_MT': microdados_V3['TP_PRESENCA_MT'],\n",
    "    'TP_PRESENCA_GERAL': microdados_V3['TP_PRESENCA_GERAL']\n",
    "})\n",
    "\n",
    "# Mostrar exemplos de cada categoria\n",
    "for categoria in range(4):\n",
    "    print(f\"\\nExemplos da categoria {categoria}:\")\n",
    "    print(verificacao[verificacao['TP_PRESENCA_GERAL'] == categoria].sample(3))"
   ]
  },
  {
   "cell_type": "code",
   "execution_count": 42,
   "metadata": {},
   "outputs": [
    {
     "name": "stdout",
     "output_type": "stream",
     "text": [
      "Distribuição de presença na redação:\n",
      "TP_PRESENCA_REDACAO\n",
      "1    2822643\n",
      "0    1111312\n",
      "Name: count, dtype: int64\n"
     ]
    }
   ],
   "source": [
    "# Criação da coluna TP_PRESENCA_REDACAO\n",
    "# Um candidato é considerado presente na redação se estiver presente em\n",
    "# Linguagens e Códigos (LC) E Ciências Humanas (CH)\n",
    "condicao_presente_redacao = (\n",
    "    (microdados_V3['TP_PRESENCA_LC'] == 1) & \n",
    "    (microdados_V3['TP_PRESENCA_CH'] == 1) \n",
    ")\n",
    "\n",
    "# Criando a coluna com valores 1 (presente) ou 0 (ausente)\n",
    "microdados_V3['TP_PRESENCA_REDACAO'] = condicao_presente_redacao.astype(int).astype('category')\n",
    "\n",
    "# Verificação rápida\n",
    "print(\"Distribuição de presença na redação:\")\n",
    "print(microdados_V3['TP_PRESENCA_REDACAO'].value_counts())"
   ]
  },
  {
   "cell_type": "code",
   "execution_count": 43,
   "metadata": {},
   "outputs": [],
   "source": [
    "\"\"\"\n",
    "Para calcular o desempenho, sera feito a média das notas das colunas:\n",
    "NU_NOTA_COMP1\n",
    "NU_NOTA_COMP2\n",
    "NU_NOTA_COMP3\n",
    "NU_NOTA_COMP4\n",
    "NU_NOTA_COMP5\n",
    "NU_NOTA_REDACAO\n",
    "\n",
    "logo apos isso classificando em 4 categorias e criação de um dicionário para mapear as categorias:\n",
    "desempenho{\n",
    "    1: 'Alto',\n",
    "    2: 'Médio',\n",
    "    3: 'Baixo'\n",
    "}\n",
    "\"\"\"\n",
    "\n",
    "# Calculando a média das notas de redação e competências\n",
    "microdados_V3['NU_DESEMPENHO'] = microdados_V3[['NU_NOTA_CN', 'NU_NOTA_CH', 'NU_NOTA_LC',\n",
    "                                            'NU_NOTA_MT', 'NU_NOTA_REDACAO']].mean(axis=1)\n",
    "\n",
    "# Função para mapear os valores\n",
    "def map_desempenho(valor):\n",
    "    if valor >= 600:    # ~20-25% dos estudantes\n",
    "        return 1        # Alto\n",
    "    elif valor >= 400:  # ~30-35% dos estudantes\n",
    "        return 2        # Médio\n",
    "    else:               # ~40-45% dos estudantes\n",
    "        return 3        # Baixo\n",
    "\n",
    "# # Aplicando a função à coluna 'NU_DESEMPENHO'\n",
    "microdados_V3['NU_DESEMPENHO'] = microdados_V3['NU_DESEMPENHO'].apply(map_desempenho).astype('category')"
   ]
  },
  {
   "cell_type": "code",
   "execution_count": 44,
   "metadata": {},
   "outputs": [],
   "source": [
    "microdados_V3['NU_MEDIA_GERAL'] = microdados_V3[['NU_NOTA_CN', 'NU_NOTA_CH', 'NU_NOTA_LC',\n",
    "                                            'NU_NOTA_MT', 'NU_NOTA_REDACAO']].mean(axis=1).astype('float16')\n"
   ]
  },
  {
   "cell_type": "code",
   "execution_count": null,
   "metadata": {},
   "outputs": [],
   "source": []
  },
  {
   "cell_type": "code",
   "execution_count": 45,
   "metadata": {},
   "outputs": [
    {
     "data": {
      "text/plain": [
       "array([ -1. , 508. , 564.5, ...,  71.4,  72.7,  99. ], dtype=float16)"
      ]
     },
     "execution_count": 45,
     "metadata": {},
     "output_type": "execute_result"
    }
   ],
   "source": [
    "microdados_V3['NU_MEDIA_GERAL'].unique()"
   ]
  },
  {
   "cell_type": "code",
   "execution_count": 46,
   "metadata": {},
   "outputs": [],
   "source": [
    "# Definindo as colunas de Q007 a Q025\n",
    "colunas_infra = [f\"Q{str(i).zfill(3)}\" for i in range(7, 26)]\n",
    "\n",
    "# Dicionário de pontuações para cada questão.\n",
    "\n",
    "# Aplicar o mapeamento e criar colunas com \"_score\"\n",
    "# criar colunas de score para cada Q0XX.\n",
    "for col in colunas_infra:\n",
    "    microdados_V3[col + \"_score\"] = microdados_V3[col].map(pontuacao[col])\n",
    "\n",
    "# Criar a coluna total (infrastructure_score)\n",
    "colunas_pontuacao = [col + \"_score\" for col in colunas_infra]\n",
    "microdados_V3[\"NU_INFRAESTRUTURA\"] = microdados_V3[colunas_pontuacao].sum(axis=1)\n",
    "\n",
    "# Dividir em 3 faixas (Baixa, Média, Alta) usando os tercis\n",
    "# Calculando os tercis (33% e 66%)\n",
    "q1 = microdados_V3[\"NU_INFRAESTRUTURA\"].quantile(0.33)\n",
    "q2 = microdados_V3[\"NU_INFRAESTRUTURA\"].quantile(0.66)\n",
    "\n",
    "def categorizar_infra(score):\n",
    "    if score >= q2:\n",
    "        return 1\n",
    "    elif score >= q1:\n",
    "        return 2\n",
    "    else:\n",
    "        return 3\n",
    "\n",
    "microdados_V3[\"NU_INFRAESTRUTURA\"] = microdados_V3[\"NU_INFRAESTRUTURA\"].apply(categorizar_infra).astype('category')\n",
    "\n",
    "# Remove as colunas score de Q007 a Q025 \n",
    "microdados_V3.drop(columns=colunas_pontuacao, inplace=True)"
   ]
  },
  {
   "cell_type": "code",
   "execution_count": null,
   "metadata": {},
   "outputs": [],
   "source": []
  },
  {
   "cell_type": "markdown",
   "metadata": {},
   "source": []
  },
  {
   "cell_type": "code",
   "execution_count": 47,
   "metadata": {},
   "outputs": [],
   "source": [
    "#==================== SALVAR DADOS TRATADOS ====================#"
   ]
  },
  {
   "cell_type": "code",
   "execution_count": 48,
   "metadata": {},
   "outputs": [],
   "source": [
    "# Mapeia os tipos de dados otimizados\n",
    "dtypes_dict = microdados_V3.dtypes.apply(str).to_dict()\n",
    "\n",
    "\n",
    "# Salva o mapeamento em um arquivo JSON\n",
    "with open('dtypes.json', 'w') as f:\n",
    "    json.dump(dtypes_dict, f)"
   ]
  },
  {
   "cell_type": "code",
   "execution_count": 49,
   "metadata": {},
   "outputs": [],
   "source": [
    "# Salva o conjunto de dados tratado em um novo arquivo CSV\n",
    "microdados_V3.to_csv(output_file, sep=';', index=False, encoding='ISO-8859-1')"
   ]
  }
 ],
 "metadata": {
  "kernelspec": {
   "display_name": "Python 3",
   "language": "python",
   "name": "python3"
  },
  "language_info": {
   "codemirror_mode": {
    "name": "ipython",
    "version": 3
   },
   "file_extension": ".py",
   "mimetype": "text/x-python",
   "name": "python",
   "nbconvert_exporter": "python",
   "pygments_lexer": "ipython3",
   "version": "3.12.6"
  }
 },
 "nbformat": 4,
 "nbformat_minor": 2
}
