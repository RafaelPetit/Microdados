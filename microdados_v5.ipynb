{
 "cells": [
  {
   "cell_type": "code",
   "execution_count": 13,
   "metadata": {},
   "outputs": [],
   "source": [
    "import pandas as pd\n",
    "import numpy as np\n",
    "import matplotlib.pyplot as plt\n",
    "import statsmodels.api as sm"
   ]
  },
  {
   "cell_type": "code",
   "execution_count": 14,
   "metadata": {},
   "outputs": [],
   "source": [
    "microdados = pd.read_csv('microdados_tratado.csv', sep=';', encoding='ISO-8859-1')"
   ]
  },
  {
   "cell_type": "code",
   "execution_count": 15,
   "metadata": {},
   "outputs": [],
   "source": [
    "dtypes = pd.read_json(\"dtypes.json\", typ='series')\n",
    "microdados = microdados.astype(dtypes)"
   ]
  },
  {
   "cell_type": "code",
   "execution_count": null,
   "metadata": {},
   "outputs": [],
   "source": [
    "# Calcular média das notas\n",
    "microdados['NU_NOTA_GERAL'] = microdados[['NU_NOTA_CN', 'NU_NOTA_CH', 'NU_NOTA_LC', 'NU_NOTA_MT', 'NU_NOTA_REDACAO']].mean(axis=1)"
   ]
  },
  {
   "cell_type": "code",
   "execution_count": null,
   "metadata": {},
   "outputs": [],
   "source": [
    "# Deixar somente as colunas desejadas\n",
    "colunas_desejadas = ['NU_NOTA_GERAL', 'Q006', 'Q001', 'Q002', 'TP_COR_RACA', 'TP_DEPENDENCIA_ADM_ESC', 'Q025', 'NU_INFRAESTRUTURA']\n",
    "microdados = microdados[colunas_desejadas]"
   ]
  },
  {
   "cell_type": "code",
   "execution_count": null,
   "metadata": {},
   "outputs": [],
   "source": [
    "# Renomear colunas para melhor entendimento\n",
    "microdados = microdados.rename(columns={\n",
    "    'Q001': 'Escolaridade_pai',\n",
    "    'Q002': 'Escolaridade_mae',\n",
    "    'Q006': 'Renda_familiar',\n",
    "    'Q025': 'Internet',\n",
    "})"
   ]
  },
  {
   "cell_type": "code",
   "execution_count": null,
   "metadata": {},
   "outputs": [],
   "source": [
    "# Transformar variáveis desejadas em dummies\n",
    "microdados = pd.get_dummies(microdados, columns=['Renda_familiar', 'Escolaridade_pai', 'Escolaridade_mae', 'TP_COR_RACA', 'TP_DEPENDENCIA_ADM_ESC', 'Internet', \n",
    "                                                 'NU_INFRAESTRUTURA'])"
   ]
  },
  {
   "cell_type": "code",
   "execution_count": null,
   "metadata": {},
   "outputs": [],
   "source": [
    "# Remove as colunas que serão usadas como referência\n",
    "microdados = microdados.drop(columns=['TP_COR_RACA_1', 'TP_DEPENDENCIA_ADM_ESC_1.0', 'Internet_B', 'NU_INFRAESTRUTURA_1', 'Escolaridade_pai_G', 'Escolaridade_mae_G', \n",
    "                                      'Renda_familiar_Q'])"
   ]
  },
  {
   "cell_type": "code",
   "execution_count": null,
   "metadata": {},
   "outputs": [],
   "source": [
    "# Separar variáveis independentes\n",
    "X = microdados.drop(columns=['NU_NOTA_GERAL'])\n",
    "# Separar variável dependente\n",
    "Y = microdados['NU_NOTA_GERAL']"
   ]
  },
  {
   "cell_type": "code",
   "execution_count": null,
   "metadata": {},
   "outputs": [],
   "source": [
    "# Adicionar constante\n",
    "X = sm.add_constant(X)"
   ]
  },
  {
   "cell_type": "code",
   "execution_count": null,
   "metadata": {},
   "outputs": [],
   "source": [
    "# Ajustar modelo\n",
    "X = X.astype(float)\n",
    "# Realizar a regressão dos Mínimos Quadrados Ordinários (MQO)\n",
    "modelo = sm.OLS(Y, X).fit()"
   ]
  },
  {
   "cell_type": "code",
   "execution_count": null,
   "metadata": {},
   "outputs": [
    {
     "name": "stdout",
     "output_type": "stream",
     "text": [
      "                            OLS Regression Results                            \n",
      "==============================================================================\n",
      "Dep. Variable:          NU_NOTA_GERAL   R-squared:                       0.130\n",
      "Model:                            OLS   Adj. R-squared:                  0.130\n",
      "Method:                 Least Squares   F-statistic:                 1.403e+04\n",
      "Date:                Tue, 18 Feb 2025   Prob (F-statistic):               0.00\n",
      "Time:                        17:01:11   Log-Likelihood:            -2.7103e+07\n",
      "No. Observations:             3933955   AIC:                         5.421e+07\n",
      "Df Residuals:                 3933912   BIC:                         5.421e+07\n",
      "Df Model:                          42                                         \n",
      "Covariance Type:            nonrobust                                         \n",
      "===============================================================================================\n",
      "                                  coef    std err          t      P>|t|      [0.025      0.975]\n",
      "-----------------------------------------------------------------------------------------------\n",
      "const                         667.2606      1.541    432.996      0.000     664.240     670.281\n",
      "Renda_familiar_A              -60.1209      1.266    -47.490      0.000     -62.602     -57.640\n",
      "Renda_familiar_B              -43.7462      1.186    -36.882      0.000     -46.071     -41.421\n",
      "Renda_familiar_C              -47.5250      1.184    -40.135      0.000     -49.846     -45.204\n",
      "Renda_familiar_D              -36.4273      1.187    -30.701      0.000     -38.753     -34.102\n",
      "Renda_familiar_E              -26.9703      1.199    -22.498      0.000     -29.320     -24.621\n",
      "Renda_familiar_F              -15.7702      1.246    -12.659      0.000     -18.212     -13.328\n",
      "Renda_familiar_G               -6.7425      1.188     -5.676      0.000      -9.071      -4.414\n",
      "Renda_familiar_H               -1.0779      1.254     -0.859      0.390      -3.537       1.381\n",
      "Renda_familiar_I                4.1172      1.346      3.060      0.002       1.480       6.754\n",
      "Renda_familiar_J                9.2957      1.375      6.760      0.000       6.601      11.991\n",
      "Renda_familiar_K                9.3755      1.440      6.510      0.000       6.553      12.198\n",
      "Renda_familiar_L               10.1209      1.595      6.344      0.000       6.994      13.248\n",
      "Renda_familiar_M               15.5217      1.671      9.288      0.000      12.246      18.797\n",
      "Renda_familiar_N               12.7645      1.570      8.129      0.000       9.687      15.842\n",
      "Renda_familiar_O               13.9037      1.572      8.844      0.000      10.822      16.985\n",
      "Renda_familiar_P               15.4251      1.606      9.605      0.000      12.277      18.573\n",
      "Escolaridade_pai_A            -69.0683      0.879    -78.545      0.000     -70.792     -67.345\n",
      "Escolaridade_pai_B            -65.3116      0.668    -97.760      0.000     -66.621     -64.002\n",
      "Escolaridade_pai_C            -50.2878      0.669    -75.185      0.000     -51.599     -48.977\n",
      "Escolaridade_pai_D            -42.2017      0.673    -62.698      0.000     -43.521     -40.882\n",
      "Escolaridade_pai_E            -29.1856      0.592    -49.265      0.000     -30.347     -28.024\n",
      "Escolaridade_pai_F             -3.3562      0.646     -5.194      0.000      -4.623      -2.090\n",
      "Escolaridade_pai_H            -62.6257      0.703    -89.119      0.000     -64.003     -61.248\n",
      "Escolaridade_mae_A           -108.2059      0.919   -117.685      0.000    -110.008    -106.404\n",
      "Escolaridade_mae_B            -91.3757      0.586   -155.820      0.000     -92.525     -90.226\n",
      "Escolaridade_mae_C            -73.5475      0.578   -127.232      0.000     -74.680     -72.414\n",
      "Escolaridade_mae_D            -61.6986      0.559   -110.408      0.000     -62.794     -60.603\n",
      "Escolaridade_mae_E            -35.9665      0.461    -77.967      0.000     -36.871     -35.062\n",
      "Escolaridade_mae_F             -6.7147      0.514    -13.070      0.000      -7.722      -5.708\n",
      "Escolaridade_mae_H            -91.9679      0.829   -110.896      0.000     -93.593     -90.342\n",
      "TP_COR_RACA_0                 -30.7695      1.057    -29.122      0.000     -32.840     -28.699\n",
      "TP_COR_RACA_2                 -33.4453      0.397    -84.287      0.000     -34.223     -32.668\n",
      "TP_COR_RACA_3                 -19.9497      0.278    -71.697      0.000     -20.495     -19.404\n",
      "TP_COR_RACA_4                 -21.6718      0.957    -22.654      0.000     -23.547     -19.797\n",
      "TP_COR_RACA_5                 -58.5681      1.530    -38.287      0.000     -61.566     -55.570\n",
      "TP_DEPENDENCIA_ADM_ESC_-1.0  -143.2980      1.091   -131.399      0.000    -145.435    -141.161\n",
      "TP_DEPENDENCIA_ADM_ESC_2.0   -139.7992      1.121   -124.669      0.000    -141.997    -137.601\n",
      "TP_DEPENDENCIA_ADM_ESC_3.0   -162.2486      2.734    -59.353      0.000    -167.606    -156.891\n",
      "TP_DEPENDENCIA_ADM_ESC_4.0    -25.9267      1.198    -21.650      0.000     -28.274     -23.580\n",
      "Internet_A                     -5.0540      0.455    -11.113      0.000      -5.945      -4.163\n",
      "NU_INFRAESTRUTURA_2           -22.3829      0.346    -64.749      0.000     -23.060     -21.705\n",
      "NU_INFRAESTRUTURA_3           -42.5530      0.430    -98.872      0.000     -43.396     -41.709\n",
      "==============================================================================\n",
      "Omnibus:                  1082693.883   Durbin-Watson:                   1.935\n",
      "Prob(Omnibus):                  0.000   Jarque-Bera (JB):           420959.043\n",
      "Skew:                          -0.630   Prob(JB):                         0.00\n",
      "Kurtosis:                       2.009   Cond. No.                         61.3\n",
      "==============================================================================\n",
      "\n",
      "Notes:\n",
      "[1] Standard Errors assume that the covariance matrix of the errors is correctly specified.\n"
     ]
    }
   ],
   "source": [
    "# Imprime o resumo do modelo\n",
    "print(modelo.summary())"
   ]
  }
 ],
 "metadata": {
  "kernelspec": {
   "display_name": "Python 3",
   "language": "python",
   "name": "python3"
  },
  "language_info": {
   "codemirror_mode": {
    "name": "ipython",
    "version": 3
   },
   "file_extension": ".py",
   "mimetype": "text/x-python",
   "name": "python",
   "nbconvert_exporter": "python",
   "pygments_lexer": "ipython3",
   "version": "3.12.6"
  }
 },
 "nbformat": 4,
 "nbformat_minor": 2
}
